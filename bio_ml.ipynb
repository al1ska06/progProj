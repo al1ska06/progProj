{
 "cells": [
  {
   "cell_type": "markdown",
   "id": "7b0f314a",
   "metadata": {},
   "source": [
    "Installing PaDEL: provides descriptors for molecules translated from smile id: http://yapcwsoft.com/dd/padeldescriptor/"
   ]
  },
  {
   "cell_type": "code",
   "execution_count": 4,
   "id": "645a89a2",
   "metadata": {},
   "outputs": [
    {
     "name": "stdout",
     "output_type": "stream",
     "text": [
      "['__doc__', '__file__', '__loader__', '__name__', '__package__', '__path__', '__spec__']\n"
     ]
    }
   ],
   "source": [
    "import PaDEL_pywrapper\n",
    "print(dir(PaDEL_pywrapper))\n",
    "\n",
    "# urllib.request.urlretrieve(\"https://github.com/dataprofessor/bioinformatics/raw/master/padel.zip\", \"padel.zip\")\n",
    "# urllib.request.urlretrieve(\"https://github.com/dataprofessor/bioinformatics/raw/master/padel.sh\", \"padel.zsh\")"
   ]
  },
  {
   "cell_type": "code",
   "execution_count": 2,
   "id": "3ae2d666",
   "metadata": {},
   "outputs": [
    {
     "name": "stdout",
     "output_type": "stream",
     "text": [
      "c:\\Users\\alice\\miniconda3\\envs\\bioenv\\python.exe\n"
     ]
    }
   ],
   "source": [
    "import sys\n",
    "print(sys.executable)"
   ]
  }
 ],
 "metadata": {
  "kernelspec": {
   "display_name": "bioenv",
   "language": "python",
   "name": "python3"
  },
  "language_info": {
   "codemirror_mode": {
    "name": "ipython",
    "version": 3
   },
   "file_extension": ".py",
   "mimetype": "text/x-python",
   "name": "python",
   "nbconvert_exporter": "python",
   "pygments_lexer": "ipython3",
   "version": "3.12.3"
  }
 },
 "nbformat": 4,
 "nbformat_minor": 5
}
