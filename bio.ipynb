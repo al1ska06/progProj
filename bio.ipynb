{
 "cells": [
  {
   "cell_type": "code",
   "execution_count": null,
   "id": "a54cdcec",
   "metadata": {},
   "outputs": [],
   "source": [
    "! pip install chembl_webresource_client\n",
    "\n",
    "import pandas as pd\n",
    "import numpy as np\n",
    "from chembl_webresource_client.new_client import new_client"
   ]
  },
  {
   "cell_type": "markdown",
   "id": "d2571e29",
   "metadata": {},
   "source": [
    "Endometriosis is associated with progesterone resistance: https://pmc.ncbi.nlm.nih.gov/articles/PMC9687824/. \n",
    "Therefore, in drug discoveries to relieve endometriosis, we're looking for substances that can activate Progesterone receptors and improve binding"
   ]
  },
  {
   "cell_type": "code",
   "execution_count": null,
   "id": "72331f60",
   "metadata": {},
   "outputs": [],
   "source": [
    "target = new_client.target\n",
    "target_query = target.search('progesterone') \n",
    "targets = pd.DataFrame.from_dict(target_query)\n",
    "targets"
   ]
  },
  {
   "cell_type": "markdown",
   "id": "d449e697",
   "metadata": {},
   "source": [
    "Using id[0] to return the protein associated with homo sapien. "
   ]
  },
  {
   "cell_type": "code",
   "execution_count": null,
   "id": "1960d7f9",
   "metadata": {},
   "outputs": [],
   "source": [
    "selected = targets.target_chembl_id[0]\n",
    "activity = new_client.activity\n",
    "res = activity.filter(target_chembl_id = selected).filter(standard_type = \"IC50\") #IC50 means that the potency is measured by amount needed to halt biological processes by 50%: https://pubmed.ncbi.nlm.nih.gov/27365221/\n",
    "\n",
    "df = pd.DataFrame.from_dict(res)[lambda d: d.standard_value.notna()] #need standard value to determine potency\n",
    "df.head(3)"
   ]
  },
  {
   "cell_type": "code",
   "execution_count": null,
   "id": "4e85d632",
   "metadata": {},
   "outputs": [
    {
     "data": {
      "application/vnd.microsoft.datawrangler.viewer.v0+json": {
       "columns": [
        {
         "name": "index",
         "rawType": "int64",
         "type": "integer"
        },
        {
         "name": "molecule_chembl_id",
         "rawType": "object",
         "type": "unknown"
        },
        {
         "name": "canonical_smiles",
         "rawType": "object",
         "type": "unknown"
        },
        {
         "name": "standard_value",
         "rawType": "object",
         "type": "unknown"
        },
        {
         "name": "0",
         "rawType": "object",
         "type": "unknown"
        }
       ],
       "ref": "e28e7d76-8bf4-4161-9afb-aa19cc0ade1c",
       "rows": [
        [
         "0",
         "CHEMBL1276308",
         "CC#C[C@]1(O)CC[C@H]2[C@@H]3CCC4=CC(=O)CCC4=C3[C@@H](c3ccc(N(C)C)cc3)C[C@@]21C",
         "0.028",
         "active"
        ],
        [
         "1",
         "CHEMBL1276308",
         "CC#C[C@]1(O)CC[C@H]2[C@@H]3CCC4=CC(=O)CCC4=C3[C@@H](c3ccc(N(C)C)cc3)C[C@@]21C",
         "0.025",
         "active"
        ],
        [
         "2",
         "CHEMBL146032",
         "CC(=O)c1ccc([C@H]2C[C@@]3(C)[C@@H](CC[C@@]3(O)C(F)(F)C(F)(F)F)[C@@H]3CCC4=CC(=O)CCC4=C32)cc1",
         "0.0036",
         "active"
        ],
        [
         "3",
         "CHEMBL146032",
         "CC(=O)c1ccc([C@H]2C[C@@]3(C)[C@@H](CC[C@@]3(O)C(F)(F)C(F)(F)F)[C@@H]3CCC4=CC(=O)CCC4=C32)cc1",
         "0.0025",
         "active"
        ],
        [
         "4",
         "CHEMBL286130",
         "C=C1CC(C)(C)Nc2ccc3c(c21)C(c1ccc(Cl)cc1)Oc1ccccc1-3",
         "1755.0",
         "intermediate"
        ],
        [
         "5",
         "CHEMBL286595",
         "CC1=CC(C)(C)Nc2ccc3c(c21)C(c1ccc(Cl)cc1)Oc1ccccc1-3",
         "600.0",
         "active"
        ],
        [
         "6",
         "CHEMBL36076",
         "C[C@@H]1CC(C)(C)Nc2ccc3c(c21)[C@H](c1ccc(Cl)cc1)Oc1ccccc1-3",
         "3100.0",
         "intermediate"
        ],
        [
         "7",
         "CHEMBL35431",
         "C[C@@H]1c2c(ccc3c2[C@H](c2ccc(Cl)cc2)Oc2ccccc2-3)NC(C)(C)[C@H]1O",
         "3200.0",
         "intermediate"
        ],
        [
         "8",
         "CHEMBL33909",
         "CC1(C)C=Cc2c(ccc3c2C(c2ccc(Cl)cc2)Oc2ccccc2-3)N1",
         "140.0",
         "active"
        ],
        [
         "9",
         "CHEMBL34035",
         "C[C@H]1c2c(ccc3c2[C@H](c2ccc(Cl)cc2)Oc2ccccc2-3)NC(C)(C)[C@@H]1O",
         "460.0",
         "active"
        ],
        [
         "10",
         "CHEMBL286662",
         "CC1(C)CC(=O)c2c(ccc3c2C(c2ccc(Cl)cc2)Oc2ccccc2-3)N1",
         "376.0",
         "active"
        ],
        [
         "11",
         "CHEMBL117465",
         "CC1=CC(C)(C)Nc2ccc(-c3cc(F)cc(C#N)c3)cc21",
         "30.0",
         "active"
        ],
        [
         "12",
         "CHEMBL117465",
         "CC1=CC(C)(C)Nc2ccc(-c3cc(F)cc(C#N)c3)cc21",
         "37.0",
         "active"
        ],
        [
         "13",
         "CHEMBL335992",
         "CC1=CC(C)(C)Nc2ccc(-c3csc(C#N)c3)cc21",
         "24.0",
         "active"
        ],
        [
         "14",
         "CHEMBL335992",
         "CC1=CC(C)(C)Nc2ccc(-c3csc(C#N)c3)cc21",
         "106.0",
         "active"
        ],
        [
         "15",
         "CHEMBL26763",
         "CC1(C)OC(S)=Nc2ccc(-c3cc(Br)cc(OC(F)(F)F)c3)cc21",
         "100.0",
         "active"
        ],
        [
         "16",
         "CHEMBL1908373",
         "CN(C)c1ccc([C@H]2C[C@]3(C)[C@@H](CC[C@]3(O)CCCO)[C@@H]3CCC4=CC(=O)CCC4=C32)cc1",
         "2.2",
         "active"
        ],
        [
         "17",
         "CHEMBL1908373",
         "CN(C)c1ccc([C@H]2C[C@]3(C)[C@@H](CC[C@]3(O)CCCO)[C@@H]3CCC4=CC(=O)CCC4=C32)cc1",
         "3.3",
         "active"
        ],
        [
         "18",
         "CHEMBL133661",
         "CC1=CC(C)(C)Nc2ccc(-c3ccc(Cl)s3)cc21",
         "43.0",
         "active"
        ],
        [
         "19",
         "CHEMBL133661",
         "CC1=CC(C)(C)Nc2ccc(-c3ccc(Cl)s3)cc21",
         "151.0",
         "active"
        ],
        [
         "20",
         "CHEMBL417110",
         "CCN1C(=S)OC(C)(C)c2cc(-c3cc(F)cc(C#N)c3)ccc21",
         "100.0",
         "active"
        ],
        [
         "21",
         "CHEMBL132950",
         "CC1=CC(C)(C)Nc2ccc(-c3cc(Br)c(C#N)s3)cc21",
         "242.0",
         "active"
        ],
        [
         "22",
         "CHEMBL132950",
         "CC1=CC(C)(C)Nc2ccc(-c3cc(Br)c(C#N)s3)cc21",
         "250.0",
         "active"
        ],
        [
         "23",
         "CHEMBL282650",
         "CC1(C)OC(S)=Nc2ccc(-c3csc(C#N)c3)cc21",
         "3.0",
         "active"
        ],
        [
         "24",
         "CHEMBL339399",
         "CC1=CC(C)(C)Nc2ccc(-c3ccc(Br)s3)cc21",
         "65.0",
         "active"
        ],
        [
         "25",
         "CHEMBL339399",
         "CC1=CC(C)(C)Nc2ccc(-c3ccc(Br)s3)cc21",
         "71.0",
         "active"
        ],
        [
         "26",
         "CHEMBL162569",
         "C[C@@H]1c2cc3c(C(F)(F)F)cc(O)nc3cc2N[C@@H]1C",
         "1900.0",
         "intermediate"
        ],
        [
         "27",
         "CHEMBL133656",
         "CC1=CC(C)(C)Nc2ccc(-c3ccc([N+](=O)[O-])s3)cc21",
         "31.0",
         "active"
        ],
        [
         "28",
         "CHEMBL133656",
         "CC1=CC(C)(C)Nc2ccc(-c3ccc([N+](=O)[O-])s3)cc21",
         "70.0",
         "active"
        ],
        [
         "29",
         "CHEMBL134258",
         "CC1=CC(C)(C)Nc2ccc(-c3ccsc3C#N)cc21",
         "318.0",
         "active"
        ],
        [
         "30",
         "CHEMBL134258",
         "CC1=CC(C)(C)Nc2ccc(-c3ccsc3C#N)cc21",
         "278.0",
         "active"
        ],
        [
         "31",
         "CHEMBL351465",
         "C[C@@H]1Cc2cc3c(C(F)(F)F)cc(O)nc3cc2N1",
         "750.0",
         "active"
        ],
        [
         "32",
         "CHEMBL25454",
         "CN1C(=S)OC(C)(C)c2cc(-c3cccc(Br)c3)ccc21",
         "114.0",
         "active"
        ],
        [
         "33",
         "CHEMBL132193",
         "CC1=CC(C)(C)Nc2ccc(-c3ccc(C#N)s3)cc21",
         "27.0",
         "active"
        ],
        [
         "34",
         "CHEMBL132193",
         "CC1=CC(C)(C)Nc2ccc(-c3ccc(C#N)s3)cc21",
         "80.0",
         "active"
        ],
        [
         "35",
         "CHEMBL25292",
         "COc1cc(C#N)cc(-c2ccc3c(c2)C(C)(C)OC(S)=N3)c1",
         "100.0",
         "active"
        ],
        [
         "36",
         "CHEMBL28164",
         "CN1C(=S)OC(C)(C)c2cc(-c3cc(F)cc(Br)c3)ccc21",
         "100.0",
         "active"
        ],
        [
         "37",
         "CHEMBL24689",
         "CC1(C)OC(S)=Nc2ccc(-c3cc(C#N)cc(OC(F)(F)F)c3)cc21",
         "100.0",
         "active"
        ],
        [
         "38",
         "CHEMBL134786",
         "CC1=CC(C)(C)Nc2ccc(-c3ccc(C=O)s3)cc21",
         "729.0",
         "active"
        ],
        [
         "39",
         "CHEMBL134786",
         "CC1=CC(C)(C)Nc2ccc(-c3ccc(C=O)s3)cc21",
         "78.0",
         "active"
        ],
        [
         "40",
         "CHEMBL133794",
         "CC1=CC(C)(C)Nc2ccc(-c3sccc3C)cc21",
         "232.0",
         "active"
        ],
        [
         "41",
         "CHEMBL133794",
         "CC1=CC(C)(C)Nc2ccc(-c3sccc3C)cc21",
         "105.0",
         "active"
        ],
        [
         "42",
         "CHEMBL131681",
         "CC1(C)Nc2ccc(-c3csc(C#N)c3)cc2C(C)(C)C1=O",
         "14.0",
         "active"
        ],
        [
         "43",
         "CHEMBL350932",
         "Oc1cc(C(F)(F)F)c2cc3c(cc2n1)N[C@@H]1CCCC[C@H]31",
         "170.0",
         "active"
        ],
        [
         "44",
         "CHEMBL132889",
         "Cc1cc(C#N)sc1-c1ccc2c(c1)C(C)(C)C(=O)C(C)(C)N2",
         "10.0",
         "active"
        ],
        [
         "45",
         "CHEMBL161892",
         "CN1c2cc3c(cc2[C@H]2CCCC[C@H]21)c(C(F)(F)F)cc(=O)n3C",
         "1000.0",
         "active"
        ],
        [
         "46",
         "CHEMBL423620",
         "CC1(C)CCC[C@]2(C)c3cc4c(C(F)(F)F)cc(O)nc4cc3N[C@H]12",
         "430.0",
         "active"
        ],
        [
         "47",
         "CHEMBL337885",
         "CC1=CC(C)(C)Nc2ccc(-c3csc(C=O)c3)cc21",
         "245.0",
         "active"
        ],
        [
         "48",
         "CHEMBL337885",
         "CC1=CC(C)(C)Nc2ccc(-c3csc(C=O)c3)cc21",
         "102.0",
         "active"
        ],
        [
         "49",
         "CHEMBL26764",
         "Cc1cc(Br)cc(-c2ccc3c(c2)C(C)(C)OC(S)=N3)c1",
         "100.0",
         "active"
        ]
       ],
       "shape": {
        "columns": 4,
        "rows": 2156
       }
      },
      "text/html": [
       "<div>\n",
       "<style scoped>\n",
       "    .dataframe tbody tr th:only-of-type {\n",
       "        vertical-align: middle;\n",
       "    }\n",
       "\n",
       "    .dataframe tbody tr th {\n",
       "        vertical-align: top;\n",
       "    }\n",
       "\n",
       "    .dataframe thead th {\n",
       "        text-align: right;\n",
       "    }\n",
       "</style>\n",
       "<table border=\"1\" class=\"dataframe\">\n",
       "  <thead>\n",
       "    <tr style=\"text-align: right;\">\n",
       "      <th></th>\n",
       "      <th>molecule_chembl_id</th>\n",
       "      <th>canonical_smiles</th>\n",
       "      <th>standard_value</th>\n",
       "      <th>0</th>\n",
       "    </tr>\n",
       "  </thead>\n",
       "  <tbody>\n",
       "    <tr>\n",
       "      <th>0</th>\n",
       "      <td>CHEMBL1276308</td>\n",
       "      <td>CC#C[C@]1(O)CC[C@H]2[C@@H]3CCC4=CC(=O)CCC4=C3[...</td>\n",
       "      <td>0.028</td>\n",
       "      <td>active</td>\n",
       "    </tr>\n",
       "    <tr>\n",
       "      <th>1</th>\n",
       "      <td>CHEMBL1276308</td>\n",
       "      <td>CC#C[C@]1(O)CC[C@H]2[C@@H]3CCC4=CC(=O)CCC4=C3[...</td>\n",
       "      <td>0.025</td>\n",
       "      <td>active</td>\n",
       "    </tr>\n",
       "    <tr>\n",
       "      <th>2</th>\n",
       "      <td>CHEMBL146032</td>\n",
       "      <td>CC(=O)c1ccc([C@H]2C[C@@]3(C)[C@@H](CC[C@@]3(O)...</td>\n",
       "      <td>0.0036</td>\n",
       "      <td>active</td>\n",
       "    </tr>\n",
       "    <tr>\n",
       "      <th>3</th>\n",
       "      <td>CHEMBL146032</td>\n",
       "      <td>CC(=O)c1ccc([C@H]2C[C@@]3(C)[C@@H](CC[C@@]3(O)...</td>\n",
       "      <td>0.0025</td>\n",
       "      <td>active</td>\n",
       "    </tr>\n",
       "    <tr>\n",
       "      <th>4</th>\n",
       "      <td>CHEMBL286130</td>\n",
       "      <td>C=C1CC(C)(C)Nc2ccc3c(c21)C(c1ccc(Cl)cc1)Oc1ccc...</td>\n",
       "      <td>1755.0</td>\n",
       "      <td>intermediate</td>\n",
       "    </tr>\n",
       "    <tr>\n",
       "      <th>...</th>\n",
       "      <td>...</td>\n",
       "      <td>...</td>\n",
       "      <td>...</td>\n",
       "      <td>...</td>\n",
       "    </tr>\n",
       "    <tr>\n",
       "      <th>1525</th>\n",
       "      <td>NaN</td>\n",
       "      <td>NaN</td>\n",
       "      <td>NaN</td>\n",
       "      <td>intermediate</td>\n",
       "    </tr>\n",
       "    <tr>\n",
       "      <th>1527</th>\n",
       "      <td>NaN</td>\n",
       "      <td>NaN</td>\n",
       "      <td>NaN</td>\n",
       "      <td>active</td>\n",
       "    </tr>\n",
       "    <tr>\n",
       "      <th>1533</th>\n",
       "      <td>NaN</td>\n",
       "      <td>NaN</td>\n",
       "      <td>NaN</td>\n",
       "      <td>intermediate</td>\n",
       "    </tr>\n",
       "    <tr>\n",
       "      <th>1534</th>\n",
       "      <td>NaN</td>\n",
       "      <td>NaN</td>\n",
       "      <td>NaN</td>\n",
       "      <td>intermediate</td>\n",
       "    </tr>\n",
       "    <tr>\n",
       "      <th>1698</th>\n",
       "      <td>NaN</td>\n",
       "      <td>NaN</td>\n",
       "      <td>NaN</td>\n",
       "      <td>intermediate</td>\n",
       "    </tr>\n",
       "  </tbody>\n",
       "</table>\n",
       "<p>2156 rows × 4 columns</p>\n",
       "</div>"
      ],
      "text/plain": [
       "     molecule_chembl_id                                   canonical_smiles  \\\n",
       "0         CHEMBL1276308  CC#C[C@]1(O)CC[C@H]2[C@@H]3CCC4=CC(=O)CCC4=C3[...   \n",
       "1         CHEMBL1276308  CC#C[C@]1(O)CC[C@H]2[C@@H]3CCC4=CC(=O)CCC4=C3[...   \n",
       "2          CHEMBL146032  CC(=O)c1ccc([C@H]2C[C@@]3(C)[C@@H](CC[C@@]3(O)...   \n",
       "3          CHEMBL146032  CC(=O)c1ccc([C@H]2C[C@@]3(C)[C@@H](CC[C@@]3(O)...   \n",
       "4          CHEMBL286130  C=C1CC(C)(C)Nc2ccc3c(c21)C(c1ccc(Cl)cc1)Oc1ccc...   \n",
       "...                 ...                                                ...   \n",
       "1525                NaN                                                NaN   \n",
       "1527                NaN                                                NaN   \n",
       "1533                NaN                                                NaN   \n",
       "1534                NaN                                                NaN   \n",
       "1698                NaN                                                NaN   \n",
       "\n",
       "     standard_value             0  \n",
       "0             0.028        active  \n",
       "1             0.025        active  \n",
       "2            0.0036        active  \n",
       "3            0.0025        active  \n",
       "4            1755.0  intermediate  \n",
       "...             ...           ...  \n",
       "1525            NaN  intermediate  \n",
       "1527            NaN        active  \n",
       "1533            NaN  intermediate  \n",
       "1534            NaN  intermediate  \n",
       "1698            NaN  intermediate  \n",
       "\n",
       "[2156 rows x 4 columns]"
      ]
     },
     "execution_count": 63,
     "metadata": {},
     "output_type": "execute_result"
    }
   ],
   "source": [
    "#adding activity label for ML\n",
    "\n",
    "act_class = []\n",
    "for i in df.standard_value:\n",
    "    if float(i) >= 10000:\n",
    "        act_class.append(\"inactive\")\n",
    "    elif float(i) <= 1000:\n",
    "        act_class.append(\"active\")\n",
    "    else:\n",
    "        act_class.append(\"intermediate\")\n",
    "\n",
    "\n",
    "#combining into df\n",
    "finaldf = df[['molecule_chembl_id', 'canonical_smiles', 'standard_value']] \n",
    "#canonical smile is another way to depict molecular structure in text: https://luis-vollmers.medium.com/tutorial-to-smiles-and-canonical-smiles-explained-with-examples-fbc8a46ca29f\n",
    "pd.concat([finaldf, pd.Series(act_class)], axis = 1)\n"
   ]
  },
  {
   "cell_type": "markdown",
   "id": "bd17192a",
   "metadata": {},
   "source": [
    "Lipiski descriptors: the \"druglikeness\" of a compound (absorption, distribution, metabolism, excretion), or the pharmacokinetic profile."
   ]
  },
  {
   "cell_type": "code",
   "execution_count": 64,
   "id": "a1ee4827",
   "metadata": {},
   "outputs": [],
   "source": [
    "from rdkit import Chem\n",
    "from rdkit.Chem import Descriptors, Lipinski\n",
    "\n",
    "def lipinski(smiles, verbose=False):\n",
    "\n",
    "    moldata= []\n",
    "    for elem in smiles:\n",
    "        mol=Chem.MolFromSmiles(elem) \n",
    "        moldata.append(mol)\n",
    "       \n",
    "    baseData= np.arange(1,1)\n",
    "    i=0  \n",
    "    for mol in moldata:        \n",
    "       \n",
    "        desc_MolWt = Descriptors.MolWt(mol)\n",
    "        desc_MolLogP = Descriptors.MolLogP(mol)\n",
    "        desc_NumHDonors = Lipinski.NumHDonors(mol)\n",
    "        desc_NumHAcceptors = Lipinski.NumHAcceptors(mol)\n",
    "           \n",
    "        row = np.array([desc_MolWt,\n",
    "                        desc_MolLogP,\n",
    "                        desc_NumHDonors,\n",
    "                        desc_NumHAcceptors])   \n",
    "    \n",
    "        if(i==0):\n",
    "            baseData=row\n",
    "        else:\n",
    "            baseData=np.vstack([baseData, row])\n",
    "        i=i+1      \n",
    "    \n",
    "    columnNames=[\"MW\",\"LogP\",\"NumHDonors\",\"NumHAcceptors\"]   \n",
    "    descriptors = pd.DataFrame(data=baseData,columns=columnNames)\n",
    "    \n",
    "    return descriptors"
   ]
  },
  {
   "cell_type": "markdown",
   "id": "b124e0fb",
   "metadata": {},
   "source": [
    "MW = molecular weight; LogP = Octanol-water partition coefficient (measure of hydrophobism); hydrogen donors and acceptors"
   ]
  },
  {
   "cell_type": "code",
   "execution_count": null,
   "id": "c69d7674",
   "metadata": {},
   "outputs": [],
   "source": [
    "lip_df = lipinski(finaldf.canonical_smiles)\n",
    "df_combine = pd.concat([finaldf, lip_df], axis = 1)\n",
    "df_combine = df_combine.dropna()\n",
    "df_combine['standard_value'] = pd.to_numeric(df_combine['standard_value'])\n",
    "df_combine"
   ]
  },
  {
   "cell_type": "code",
   "execution_count": null,
   "id": "bda12f7a",
   "metadata": {},
   "outputs": [],
   "source": [
    "def norm_value(input):\n",
    "    norm = []\n",
    "\n",
    "    for i in input['standard_value']:\n",
    "        if i > 100000000:\n",
    "          i = 100000000\n",
    "        norm.append(i)\n",
    "\n",
    "    input['standard_value_norm'] = norm\n",
    "    x = input.drop('standard_value', axis =1)\n",
    "        \n",
    "    return x\n",
    "\n",
    "df_norm = norm_value(df_combine)\n"
   ]
  },
  {
   "cell_type": "code",
   "execution_count": null,
   "id": "32385b0b",
   "metadata": {},
   "outputs": [],
   "source": [
    "def pIC50(input):\n",
    "    pIC50 = []\n",
    "\n",
    "    for i in input['standard_value_norm']:\n",
    "        molar = i*(10**-9) # Converts nM to M\n",
    "        pIC50.append(-np.log10(molar))\n",
    "\n",
    "    input['pIC50'] = pIC50\n",
    "    x = input.drop('standard_value_norm', axis =1)\n",
    "        \n",
    "    return x\n",
    "\n",
    "df_final = pIC50(df_norm)\n",
    "df_final"
   ]
  }
 ],
 "metadata": {
  "kernelspec": {
   "display_name": "bioenv",
   "language": "python",
   "name": "python3"
  },
  "language_info": {
   "codemirror_mode": {
    "name": "ipython",
    "version": 3
   },
   "file_extension": ".py",
   "mimetype": "text/x-python",
   "name": "python",
   "nbconvert_exporter": "python",
   "pygments_lexer": "ipython3",
   "version": "3.12.11"
  }
 },
 "nbformat": 4,
 "nbformat_minor": 5
}
