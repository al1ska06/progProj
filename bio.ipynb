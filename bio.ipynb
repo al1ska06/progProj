{
 "cells": [
  {
   "cell_type": "code",
   "execution_count": null,
   "id": "a54cdcec",
   "metadata": {},
   "outputs": [],
   "source": [
    "! pip install chembl_webresource_client\n",
    "\n",
    "import pandas as pd\n",
    "from chembl_webresource_client.new_client import new_client"
   ]
  },
  {
   "cell_type": "markdown",
   "id": "d2571e29",
   "metadata": {},
   "source": [
    "Endometriosis is associated with progesterone resistance: https://pmc.ncbi.nlm.nih.gov/articles/PMC9687824/. \n",
    "Therefore, in drug discoveries to relieve endometriosis, we're looking for substances that can activate Progesterone receptors and improve binding"
   ]
  },
  {
   "cell_type": "code",
   "execution_count": null,
   "id": "72331f60",
   "metadata": {},
   "outputs": [],
   "source": [
    "target = new_client.target\n",
    "target_query = target.search('progesterone') \n",
    "targets = pd.DataFrame.from_dict(target_query)\n",
    "targets"
   ]
  },
  {
   "cell_type": "markdown",
   "id": "d449e697",
   "metadata": {},
   "source": [
    "Using id[0] to return the protein associated with homo sapien. "
   ]
  },
  {
   "cell_type": "code",
   "execution_count": null,
   "id": "1960d7f9",
   "metadata": {},
   "outputs": [],
   "source": [
    "selected = targets.target_chembl_id[0]\n",
    "activity = new_client.activity\n",
    "res = activity.filter(target_chembl_id = selected).filter(standard_type = \"IC50\") #IC50 means that the potency is measured by amount needed to halt biological processes by 50%: https://pubmed.ncbi.nlm.nih.gov/27365221/\n",
    "\n",
    "df = pd.DataFrame.from_dict(res)[lambda d: d.standard_value.notna()] #need standard value to determine potency\n",
    "df.head(3)"
   ]
  },
  {
   "cell_type": "code",
   "execution_count": null,
   "id": "4e85d632",
   "metadata": {},
   "outputs": [],
   "source": [
    "#adding activity label for ML\n",
    "\n",
    "act_class = []\n",
    "for i in df.standard_value:\n",
    "    if float(i) >= 10000:\n",
    "        act_class.append(\"inactive\")\n",
    "    elif float(i) <= 1000:\n",
    "        act_class.append(\"active\")\n",
    "    else:\n",
    "        act_class.append(\"intermediate\")\n",
    "\n",
    "\n",
    "#combining into df\n",
    "finaldf = df[['molecule_chembl_id', 'canonical_smiles', 'standard_value']] #canonical smile is another way to depict molecular structure in text\n",
    "pd.concat([finaldf, pd.Series(act_class)], axis = 1)\n"
   ]
  }
 ],
 "metadata": {
  "kernelspec": {
   "display_name": "bioenv",
   "language": "python",
   "name": "python3"
  },
  "language_info": {
   "codemirror_mode": {
    "name": "ipython",
    "version": 3
   },
   "file_extension": ".py",
   "mimetype": "text/x-python",
   "name": "python",
   "nbconvert_exporter": "python",
   "pygments_lexer": "ipython3",
   "version": "3.12.11"
  }
 },
 "nbformat": 4,
 "nbformat_minor": 5
}
