{
 "cells": [
  {
   "cell_type": "code",
   "execution_count": 77,
   "id": "a54cdcec",
   "metadata": {},
   "outputs": [
    {
     "name": "stdout",
     "output_type": "stream",
     "text": [
      "Requirement already satisfied: chembl_webresource_client in c:\\users\\alice\\miniconda3\\envs\\bioenv\\lib\\site-packages (0.10.9)\n",
      "Requirement already satisfied: urllib3 in c:\\users\\alice\\miniconda3\\envs\\bioenv\\lib\\site-packages (from chembl_webresource_client) (2.5.0)\n",
      "Requirement already satisfied: requests>=2.18.4 in c:\\users\\alice\\miniconda3\\envs\\bioenv\\lib\\site-packages (from chembl_webresource_client) (2.32.4)\n",
      "Requirement already satisfied: requests-cache~=1.2 in c:\\users\\alice\\miniconda3\\envs\\bioenv\\lib\\site-packages (from chembl_webresource_client) (1.2.1)\n",
      "Requirement already satisfied: easydict in c:\\users\\alice\\miniconda3\\envs\\bioenv\\lib\\site-packages (from chembl_webresource_client) (1.13)\n",
      "Requirement already satisfied: attrs>=21.2 in c:\\users\\alice\\miniconda3\\envs\\bioenv\\lib\\site-packages (from requests-cache~=1.2->chembl_webresource_client) (24.3.0)\n",
      "Requirement already satisfied: cattrs>=22.2 in c:\\users\\alice\\miniconda3\\envs\\bioenv\\lib\\site-packages (from requests-cache~=1.2->chembl_webresource_client) (25.1.1)\n",
      "Requirement already satisfied: platformdirs>=2.5 in c:\\users\\alice\\miniconda3\\envs\\bioenv\\lib\\site-packages (from requests-cache~=1.2->chembl_webresource_client) (4.3.7)\n",
      "Requirement already satisfied: url-normalize>=1.4 in c:\\users\\alice\\miniconda3\\envs\\bioenv\\lib\\site-packages (from requests-cache~=1.2->chembl_webresource_client) (2.2.1)\n",
      "Requirement already satisfied: typing-extensions>=4.12.2 in c:\\users\\alice\\miniconda3\\envs\\bioenv\\lib\\site-packages (from cattrs>=22.2->requests-cache~=1.2->chembl_webresource_client) (4.12.2)\n",
      "Requirement already satisfied: charset_normalizer<4,>=2 in c:\\users\\alice\\miniconda3\\envs\\bioenv\\lib\\site-packages (from requests>=2.18.4->chembl_webresource_client) (3.3.2)\n",
      "Requirement already satisfied: idna<4,>=2.5 in c:\\users\\alice\\miniconda3\\envs\\bioenv\\lib\\site-packages (from requests>=2.18.4->chembl_webresource_client) (3.7)\n",
      "Requirement already satisfied: certifi>=2017.4.17 in c:\\users\\alice\\miniconda3\\envs\\bioenv\\lib\\site-packages (from requests>=2.18.4->chembl_webresource_client) (2025.8.3)\n"
     ]
    }
   ],
   "source": [
    "! pip install chembl_webresource_client\n",
    "\n",
    "import pandas as pd\n",
    "import numpy as np\n",
    "from chembl_webresource_client.new_client import new_client"
   ]
  },
  {
   "cell_type": "markdown",
   "id": "d2571e29",
   "metadata": {},
   "source": [
    "Endometriosis is associated with progesterone resistance: https://pmc.ncbi.nlm.nih.gov/articles/PMC9687824/. \n",
    "Therefore, in drug discoveries to relieve endometriosis, we're looking for substances that can activate Progesterone receptors and improve binding"
   ]
  },
  {
   "cell_type": "code",
   "execution_count": 95,
   "id": "72331f60",
   "metadata": {},
   "outputs": [],
   "source": [
    "target = new_client.target\n",
    "target_query = target.search('progesterone') \n",
    "targets = pd.DataFrame.from_dict(target_query)"
   ]
  },
  {
   "cell_type": "markdown",
   "id": "d449e697",
   "metadata": {},
   "source": [
    "Using id[0] to return the protein associated with homo sapien. "
   ]
  },
  {
   "cell_type": "code",
   "execution_count": 96,
   "id": "1960d7f9",
   "metadata": {},
   "outputs": [
    {
     "data": {
      "application/vnd.microsoft.datawrangler.viewer.v0+json": {
       "columns": [
        {
         "name": "index",
         "rawType": "int64",
         "type": "integer"
        },
        {
         "name": "action_type",
         "rawType": "object",
         "type": "unknown"
        },
        {
         "name": "activity_comment",
         "rawType": "object",
         "type": "unknown"
        },
        {
         "name": "activity_id",
         "rawType": "int64",
         "type": "integer"
        },
        {
         "name": "activity_properties",
         "rawType": "object",
         "type": "unknown"
        },
        {
         "name": "assay_chembl_id",
         "rawType": "object",
         "type": "string"
        },
        {
         "name": "assay_description",
         "rawType": "object",
         "type": "string"
        },
        {
         "name": "assay_type",
         "rawType": "object",
         "type": "string"
        },
        {
         "name": "assay_variant_accession",
         "rawType": "object",
         "type": "unknown"
        },
        {
         "name": "assay_variant_mutation",
         "rawType": "object",
         "type": "unknown"
        },
        {
         "name": "bao_endpoint",
         "rawType": "object",
         "type": "string"
        },
        {
         "name": "bao_format",
         "rawType": "object",
         "type": "string"
        },
        {
         "name": "bao_label",
         "rawType": "object",
         "type": "string"
        },
        {
         "name": "canonical_smiles",
         "rawType": "object",
         "type": "string"
        },
        {
         "name": "data_validity_comment",
         "rawType": "object",
         "type": "unknown"
        },
        {
         "name": "data_validity_description",
         "rawType": "object",
         "type": "unknown"
        },
        {
         "name": "document_chembl_id",
         "rawType": "object",
         "type": "string"
        },
        {
         "name": "document_journal",
         "rawType": "object",
         "type": "string"
        },
        {
         "name": "document_year",
         "rawType": "int64",
         "type": "integer"
        },
        {
         "name": "ligand_efficiency",
         "rawType": "object",
         "type": "unknown"
        },
        {
         "name": "molecule_chembl_id",
         "rawType": "object",
         "type": "string"
        },
        {
         "name": "molecule_pref_name",
         "rawType": "object",
         "type": "string"
        },
        {
         "name": "parent_molecule_chembl_id",
         "rawType": "object",
         "type": "string"
        },
        {
         "name": "pchembl_value",
         "rawType": "object",
         "type": "unknown"
        },
        {
         "name": "potential_duplicate",
         "rawType": "int64",
         "type": "integer"
        },
        {
         "name": "qudt_units",
         "rawType": "object",
         "type": "string"
        },
        {
         "name": "record_id",
         "rawType": "int64",
         "type": "integer"
        },
        {
         "name": "relation",
         "rawType": "object",
         "type": "string"
        },
        {
         "name": "src_id",
         "rawType": "int64",
         "type": "integer"
        },
        {
         "name": "standard_flag",
         "rawType": "int64",
         "type": "integer"
        },
        {
         "name": "standard_relation",
         "rawType": "object",
         "type": "string"
        },
        {
         "name": "standard_text_value",
         "rawType": "object",
         "type": "unknown"
        },
        {
         "name": "standard_type",
         "rawType": "object",
         "type": "string"
        },
        {
         "name": "standard_units",
         "rawType": "object",
         "type": "string"
        },
        {
         "name": "standard_upper_value",
         "rawType": "object",
         "type": "unknown"
        },
        {
         "name": "standard_value",
         "rawType": "object",
         "type": "string"
        },
        {
         "name": "target_chembl_id",
         "rawType": "object",
         "type": "string"
        },
        {
         "name": "target_organism",
         "rawType": "object",
         "type": "string"
        },
        {
         "name": "target_pref_name",
         "rawType": "object",
         "type": "string"
        },
        {
         "name": "target_tax_id",
         "rawType": "object",
         "type": "string"
        },
        {
         "name": "text_value",
         "rawType": "object",
         "type": "unknown"
        },
        {
         "name": "toid",
         "rawType": "object",
         "type": "unknown"
        },
        {
         "name": "type",
         "rawType": "object",
         "type": "string"
        },
        {
         "name": "units",
         "rawType": "object",
         "type": "string"
        },
        {
         "name": "uo_units",
         "rawType": "object",
         "type": "string"
        },
        {
         "name": "upper_value",
         "rawType": "object",
         "type": "unknown"
        },
        {
         "name": "value",
         "rawType": "object",
         "type": "string"
        }
       ],
       "ref": "4282f8a8-53bb-4931-be1c-bcc09c07a786",
       "rows": [
        [
         "0",
         null,
         null,
         "184563",
         "[]",
         "CHEMBL749963",
         "In vitro antagonist potency in transactivation assay in neuroblastoma cells expressing human PR-A progesterone receptor",
         "F",
         null,
         null,
         "BAO_0000190",
         "BAO_0000219",
         "cell-based format",
         "CC#C[C@]1(O)CC[C@H]2[C@@H]3CCC4=CC(=O)CCC4=C3[C@@H](c3ccc(N(C)C)cc3)C[C@@]21C",
         null,
         null,
         "CHEMBL1133568",
         "J Med Chem",
         "2000",
         null,
         "CHEMBL1276308",
         "MIFEPRISTONE",
         "CHEMBL1276308",
         "10.55",
         "0",
         "http://www.openphacts.org/units/Nanomolar",
         "286119",
         "=",
         "1",
         "1",
         "=",
         null,
         "IC50",
         "nM",
         null,
         "0.028",
         "CHEMBL208",
         "Homo sapiens",
         "Progesterone receptor",
         "9606",
         null,
         null,
         "IC50",
         "nM",
         "UO_0000065",
         null,
         "0.028"
        ],
        [
         "1",
         null,
         null,
         "184565",
         "[]",
         "CHEMBL750122",
         "In vitro antagonist potency in transactivation assay in neuroblastoma cells expressing human PR-B progesterone receptor",
         "F",
         null,
         null,
         "BAO_0000190",
         "BAO_0000219",
         "cell-based format",
         "CC#C[C@]1(O)CC[C@H]2[C@@H]3CCC4=CC(=O)CCC4=C3[C@@H](c3ccc(N(C)C)cc3)C[C@@]21C",
         null,
         null,
         "CHEMBL1133568",
         "J Med Chem",
         "2000",
         null,
         "CHEMBL1276308",
         "MIFEPRISTONE",
         "CHEMBL1276308",
         "10.60",
         "0",
         "http://www.openphacts.org/units/Nanomolar",
         "286119",
         "=",
         "1",
         "1",
         "=",
         null,
         "IC50",
         "nM",
         null,
         "0.025",
         "CHEMBL208",
         "Homo sapiens",
         "Progesterone receptor",
         "9606",
         null,
         null,
         "IC50",
         "nM",
         "UO_0000065",
         null,
         "0.025"
        ],
        [
         "2",
         null,
         null,
         "214573",
         "[]",
         "CHEMBL749958",
         "In vitro antagonist potency in transactivation assay in neuroblastoma cells expressing human PR-A progesterone receptor",
         "F",
         null,
         null,
         "BAO_0000190",
         "BAO_0000219",
         "cell-based format",
         "CC(=O)c1ccc([C@H]2C[C@@]3(C)[C@@H](CC[C@@]3(O)C(F)(F)C(F)(F)F)[C@@H]3CCC4=CC(=O)CCC4=C32)cc1",
         "Outside typical range",
         "Values for this activity type are unusually large/small, so may not be accurate",
         "CHEMBL1133568",
         "J Med Chem",
         "2000",
         null,
         "CHEMBL146032",
         "LONAPRISAN",
         "CHEMBL146032",
         null,
         "0",
         "http://www.openphacts.org/units/Nanomolar",
         "286118",
         "=",
         "1",
         "1",
         "=",
         null,
         "IC50",
         "nM",
         null,
         "0.0036",
         "CHEMBL208",
         "Homo sapiens",
         "Progesterone receptor",
         "9606",
         null,
         null,
         "IC50",
         "nM",
         "UO_0000065",
         null,
         "0.0036"
        ]
       ],
       "shape": {
        "columns": 46,
        "rows": 3
       }
      },
      "text/html": [
       "<div>\n",
       "<style scoped>\n",
       "    .dataframe tbody tr th:only-of-type {\n",
       "        vertical-align: middle;\n",
       "    }\n",
       "\n",
       "    .dataframe tbody tr th {\n",
       "        vertical-align: top;\n",
       "    }\n",
       "\n",
       "    .dataframe thead th {\n",
       "        text-align: right;\n",
       "    }\n",
       "</style>\n",
       "<table border=\"1\" class=\"dataframe\">\n",
       "  <thead>\n",
       "    <tr style=\"text-align: right;\">\n",
       "      <th></th>\n",
       "      <th>action_type</th>\n",
       "      <th>activity_comment</th>\n",
       "      <th>activity_id</th>\n",
       "      <th>activity_properties</th>\n",
       "      <th>assay_chembl_id</th>\n",
       "      <th>assay_description</th>\n",
       "      <th>assay_type</th>\n",
       "      <th>assay_variant_accession</th>\n",
       "      <th>assay_variant_mutation</th>\n",
       "      <th>bao_endpoint</th>\n",
       "      <th>...</th>\n",
       "      <th>target_organism</th>\n",
       "      <th>target_pref_name</th>\n",
       "      <th>target_tax_id</th>\n",
       "      <th>text_value</th>\n",
       "      <th>toid</th>\n",
       "      <th>type</th>\n",
       "      <th>units</th>\n",
       "      <th>uo_units</th>\n",
       "      <th>upper_value</th>\n",
       "      <th>value</th>\n",
       "    </tr>\n",
       "  </thead>\n",
       "  <tbody>\n",
       "    <tr>\n",
       "      <th>0</th>\n",
       "      <td>None</td>\n",
       "      <td>None</td>\n",
       "      <td>184563</td>\n",
       "      <td>[]</td>\n",
       "      <td>CHEMBL749963</td>\n",
       "      <td>In vitro antagonist potency in transactivation...</td>\n",
       "      <td>F</td>\n",
       "      <td>None</td>\n",
       "      <td>None</td>\n",
       "      <td>BAO_0000190</td>\n",
       "      <td>...</td>\n",
       "      <td>Homo sapiens</td>\n",
       "      <td>Progesterone receptor</td>\n",
       "      <td>9606</td>\n",
       "      <td>None</td>\n",
       "      <td>None</td>\n",
       "      <td>IC50</td>\n",
       "      <td>nM</td>\n",
       "      <td>UO_0000065</td>\n",
       "      <td>None</td>\n",
       "      <td>0.028</td>\n",
       "    </tr>\n",
       "    <tr>\n",
       "      <th>1</th>\n",
       "      <td>None</td>\n",
       "      <td>None</td>\n",
       "      <td>184565</td>\n",
       "      <td>[]</td>\n",
       "      <td>CHEMBL750122</td>\n",
       "      <td>In vitro antagonist potency in transactivation...</td>\n",
       "      <td>F</td>\n",
       "      <td>None</td>\n",
       "      <td>None</td>\n",
       "      <td>BAO_0000190</td>\n",
       "      <td>...</td>\n",
       "      <td>Homo sapiens</td>\n",
       "      <td>Progesterone receptor</td>\n",
       "      <td>9606</td>\n",
       "      <td>None</td>\n",
       "      <td>None</td>\n",
       "      <td>IC50</td>\n",
       "      <td>nM</td>\n",
       "      <td>UO_0000065</td>\n",
       "      <td>None</td>\n",
       "      <td>0.025</td>\n",
       "    </tr>\n",
       "    <tr>\n",
       "      <th>2</th>\n",
       "      <td>None</td>\n",
       "      <td>None</td>\n",
       "      <td>214573</td>\n",
       "      <td>[]</td>\n",
       "      <td>CHEMBL749958</td>\n",
       "      <td>In vitro antagonist potency in transactivation...</td>\n",
       "      <td>F</td>\n",
       "      <td>None</td>\n",
       "      <td>None</td>\n",
       "      <td>BAO_0000190</td>\n",
       "      <td>...</td>\n",
       "      <td>Homo sapiens</td>\n",
       "      <td>Progesterone receptor</td>\n",
       "      <td>9606</td>\n",
       "      <td>None</td>\n",
       "      <td>None</td>\n",
       "      <td>IC50</td>\n",
       "      <td>nM</td>\n",
       "      <td>UO_0000065</td>\n",
       "      <td>None</td>\n",
       "      <td>0.0036</td>\n",
       "    </tr>\n",
       "  </tbody>\n",
       "</table>\n",
       "<p>3 rows × 46 columns</p>\n",
       "</div>"
      ],
      "text/plain": [
       "  action_type activity_comment  activity_id activity_properties  \\\n",
       "0        None             None       184563                  []   \n",
       "1        None             None       184565                  []   \n",
       "2        None             None       214573                  []   \n",
       "\n",
       "  assay_chembl_id                                  assay_description  \\\n",
       "0    CHEMBL749963  In vitro antagonist potency in transactivation...   \n",
       "1    CHEMBL750122  In vitro antagonist potency in transactivation...   \n",
       "2    CHEMBL749958  In vitro antagonist potency in transactivation...   \n",
       "\n",
       "  assay_type assay_variant_accession assay_variant_mutation bao_endpoint  ...  \\\n",
       "0          F                    None                   None  BAO_0000190  ...   \n",
       "1          F                    None                   None  BAO_0000190  ...   \n",
       "2          F                    None                   None  BAO_0000190  ...   \n",
       "\n",
       "  target_organism       target_pref_name target_tax_id text_value  toid  type  \\\n",
       "0    Homo sapiens  Progesterone receptor          9606       None  None  IC50   \n",
       "1    Homo sapiens  Progesterone receptor          9606       None  None  IC50   \n",
       "2    Homo sapiens  Progesterone receptor          9606       None  None  IC50   \n",
       "\n",
       "  units    uo_units upper_value   value  \n",
       "0    nM  UO_0000065        None   0.028  \n",
       "1    nM  UO_0000065        None   0.025  \n",
       "2    nM  UO_0000065        None  0.0036  \n",
       "\n",
       "[3 rows x 46 columns]"
      ]
     },
     "execution_count": 96,
     "metadata": {},
     "output_type": "execute_result"
    }
   ],
   "source": [
    "selected = targets.target_chembl_id[0]\n",
    "activity = new_client.activity\n",
    "res = activity.filter(target_chembl_id = selected).filter(standard_type = \"IC50\") #IC50 means that the potency is measured by amount needed to halt biological processes by 50%: https://pubmed.ncbi.nlm.nih.gov/27365221/\n",
    "\n",
    "df = pd.DataFrame.from_dict(res)[lambda d: d.standard_value.notna()] #need standard value to determine potency\n",
    "df.head(3)"
   ]
  },
  {
   "cell_type": "code",
   "execution_count": 97,
   "id": "4e85d632",
   "metadata": {},
   "outputs": [],
   "source": [
    "#adding activity label for ML\n",
    "\n",
    "act_class = []\n",
    "for i in df.standard_value:\n",
    "    if float(i) >= 10000:\n",
    "        act_class.append(\"inactive\")\n",
    "    elif float(i) <= 1000:\n",
    "        act_class.append(\"active\")\n",
    "    else:\n",
    "        act_class.append(\"intermediate\")\n",
    "\n",
    "\n",
    "#combining into df\n",
    "finaldf = df[['molecule_chembl_id', 'canonical_smiles', 'standard_value']] \n",
    "#canonical smile is another way to depict molecular structure in text: https://luis-vollmers.medium.com/tutorial-to-smiles-and-canonical-smiles-explained-with-examples-fbc8a46ca29f\n",
    "finaldf = pd.concat([finaldf, pd.Series(act_class, name = 'bioactivity_class')], axis = 1)\n"
   ]
  },
  {
   "cell_type": "markdown",
   "id": "bd17192a",
   "metadata": {},
   "source": [
    "Lipiski descriptors: the \"druglikeness\" of a compound (absorption, distribution, metabolism, excretion), or the pharmacokinetic profile."
   ]
  },
  {
   "cell_type": "code",
   "execution_count": 98,
   "id": "a1ee4827",
   "metadata": {},
   "outputs": [],
   "source": [
    "from rdkit import Chem\n",
    "from rdkit.Chem import Descriptors, Lipinski\n",
    "\n",
    "def lipinski(smiles, verbose=False):\n",
    "\n",
    "    moldata= []\n",
    "    for elem in smiles:\n",
    "        mol=Chem.MolFromSmiles(elem) \n",
    "        moldata.append(mol)\n",
    "       \n",
    "    baseData= np.arange(1,1)\n",
    "    i=0  \n",
    "    for mol in moldata:        \n",
    "       \n",
    "        desc_MolWt = Descriptors.MolWt(mol)\n",
    "        desc_MolLogP = Descriptors.MolLogP(mol)\n",
    "        desc_NumHDonors = Lipinski.NumHDonors(mol)\n",
    "        desc_NumHAcceptors = Lipinski.NumHAcceptors(mol)\n",
    "           \n",
    "        row = np.array([desc_MolWt,\n",
    "                        desc_MolLogP,\n",
    "                        desc_NumHDonors,\n",
    "                        desc_NumHAcceptors])   \n",
    "    \n",
    "        if(i==0):\n",
    "            baseData=row\n",
    "        else:\n",
    "            baseData=np.vstack([baseData, row])\n",
    "        i=i+1      \n",
    "    \n",
    "    columnNames=[\"MW\",\"LogP\",\"NumHDonors\",\"NumHAcceptors\"]   \n",
    "    descriptors = pd.DataFrame(data=baseData,columns=columnNames)\n",
    "    \n",
    "    return descriptors\n"
   ]
  },
  {
   "cell_type": "markdown",
   "id": "b124e0fb",
   "metadata": {},
   "source": [
    "MW = molecular weight; LogP = Octanol-water partition coefficient (measure of hydrophobism); hydrogen donors and acceptors"
   ]
  },
  {
   "cell_type": "code",
   "execution_count": 99,
   "id": "c69d7674",
   "metadata": {},
   "outputs": [
    {
     "data": {
      "application/vnd.microsoft.datawrangler.viewer.v0+json": {
       "columns": [
        {
         "name": "index",
         "rawType": "int64",
         "type": "integer"
        },
        {
         "name": "molecule_chembl_id",
         "rawType": "object",
         "type": "unknown"
        },
        {
         "name": "canonical_smiles",
         "rawType": "object",
         "type": "unknown"
        },
        {
         "name": "standard_value",
         "rawType": "float64",
         "type": "float"
        },
        {
         "name": "bioactivity_class",
         "rawType": "object",
         "type": "unknown"
        },
        {
         "name": "MW",
         "rawType": "float64",
         "type": "float"
        },
        {
         "name": "LogP",
         "rawType": "float64",
         "type": "float"
        },
        {
         "name": "NumHDonors",
         "rawType": "float64",
         "type": "float"
        },
        {
         "name": "NumHAcceptors",
         "rawType": "float64",
         "type": "float"
        }
       ],
       "ref": "0c0ccea0-c188-4e05-81a0-b2ec050117e2",
       "rows": [
        [
         "0",
         "CHEMBL1276308",
         "CC#C[C@]1(O)CC[C@H]2[C@@H]3CCC4=CC(=O)CCC4=C3[C@@H](c3ccc(N(C)C)cc3)C[C@@]21C",
         "0.028",
         "active",
         "429.6040000000001",
         "5.406500000000006",
         "1.0",
         "3.0"
        ],
        [
         "1",
         "CHEMBL1276308",
         "CC#C[C@]1(O)CC[C@H]2[C@@H]3CCC4=CC(=O)CCC4=C3[C@@H](c3ccc(N(C)C)cc3)C[C@@]21C",
         "0.025",
         "active",
         "429.6040000000001",
         "5.406500000000006",
         "1.0",
         "3.0"
        ],
        [
         "2",
         "CHEMBL146032",
         "CC(=O)c1ccc([C@H]2C[C@@]3(C)[C@@H](CC[C@@]3(O)C(F)(F)C(F)(F)F)[C@@H]3CCC4=CC(=O)CCC4=C32)cc1",
         "0.0036",
         "active",
         "508.52700000000027",
         "6.717400000000006",
         "1.0",
         "3.0"
        ],
        [
         "3",
         "CHEMBL146032",
         "CC(=O)c1ccc([C@H]2C[C@@]3(C)[C@@H](CC[C@@]3(O)C(F)(F)C(F)(F)F)[C@@H]3CCC4=CC(=O)CCC4=C32)cc1",
         "0.0025",
         "active",
         "508.52700000000027",
         "6.717400000000006",
         "1.0",
         "3.0"
        ],
        [
         "4",
         "CHEMBL286130",
         "C=C1CC(C)(C)Nc2ccc3c(c21)C(c1ccc(Cl)cc1)Oc1ccccc1-3",
         "1755.0",
         "intermediate",
         "387.9100000000001",
         "7.096200000000005",
         "1.0",
         "2.0"
        ],
        [
         "5",
         "CHEMBL286595",
         "CC1=CC(C)(C)Nc2ccc3c(c21)C(c1ccc(Cl)cc1)Oc1ccccc1-3",
         "600.0",
         "active",
         "387.9100000000001",
         "7.096200000000005",
         "1.0",
         "2.0"
        ],
        [
         "6",
         "CHEMBL36076",
         "C[C@@H]1CC(C)(C)Nc2ccc3c(c21)[C@H](c1ccc(Cl)cc1)Oc1ccccc1-3",
         "3100.0",
         "intermediate",
         "389.9260000000001",
         "7.186500000000005",
         "1.0",
         "2.0"
        ],
        [
         "7",
         "CHEMBL35431",
         "C[C@@H]1c2c(ccc3c2[C@H](c2ccc(Cl)cc2)Oc2ccccc2-3)NC(C)(C)[C@H]1O",
         "3200.0",
         "intermediate",
         "405.92500000000007",
         "6.157300000000005",
         "2.0",
         "3.0"
        ],
        [
         "8",
         "CHEMBL33909",
         "CC1(C)C=Cc2c(ccc3c2C(c2ccc(Cl)cc2)Oc2ccccc2-3)N1",
         "140.0",
         "active",
         "373.88300000000004",
         "6.706100000000005",
         "1.0",
         "2.0"
        ],
        [
         "9",
         "CHEMBL34035",
         "C[C@H]1c2c(ccc3c2[C@H](c2ccc(Cl)cc2)Oc2ccccc2-3)NC(C)(C)[C@@H]1O",
         "460.0",
         "active",
         "405.92500000000007",
         "6.157300000000005",
         "2.0",
         "3.0"
        ],
        [
         "10",
         "CHEMBL286662",
         "CC1(C)CC(=O)c2c(ccc3c2C(c2ccc(Cl)cc2)Oc2ccccc2-3)N1",
         "376.0",
         "active",
         "389.88200000000006",
         "6.265700000000003",
         "1.0",
         "3.0"
        ],
        [
         "11",
         "CHEMBL117465",
         "CC1=CC(C)(C)Nc2ccc(-c3cc(F)cc(C#N)c3)cc21",
         "30.0",
         "active",
         "292.357",
         "4.971780000000004",
         "1.0",
         "2.0"
        ],
        [
         "12",
         "CHEMBL117465",
         "CC1=CC(C)(C)Nc2ccc(-c3cc(F)cc(C#N)c3)cc21",
         "37.0",
         "active",
         "292.357",
         "4.971780000000004",
         "1.0",
         "2.0"
        ],
        [
         "13",
         "CHEMBL335992",
         "CC1=CC(C)(C)Nc2ccc(-c3csc(C#N)c3)cc21",
         "24.0",
         "active",
         "280.396",
         "4.894180000000004",
         "1.0",
         "3.0"
        ],
        [
         "14",
         "CHEMBL335992",
         "CC1=CC(C)(C)Nc2ccc(-c3csc(C#N)c3)cc21",
         "106.0",
         "active",
         "280.396",
         "4.894180000000004",
         "1.0",
         "3.0"
        ],
        [
         "15",
         "CHEMBL26763",
         "CC1(C)OC(S)=Nc2ccc(-c3cc(Br)cc(OC(F)(F)F)c3)cc21",
         "100.0",
         "active",
         "432.2610000000001",
         "6.197300000000004",
         "1.0",
         "3.0"
        ],
        [
         "16",
         "CHEMBL1908373",
         "CN(C)c1ccc([C@H]2C[C@]3(C)[C@@H](CC[C@]3(O)CCCO)[C@@H]3CCC4=CC(=O)CCC4=C32)cc1",
         "2.2",
         "active",
         "449.6350000000003",
         "5.155700000000006",
         "2.0",
         "4.0"
        ],
        [
         "17",
         "CHEMBL1908373",
         "CN(C)c1ccc([C@H]2C[C@]3(C)[C@@H](CC[C@]3(O)CCCO)[C@@H]3CCC4=CC(=O)CCC4=C32)cc1",
         "3.3",
         "active",
         "449.6350000000003",
         "5.155700000000006",
         "2.0",
         "4.0"
        ],
        [
         "18",
         "CHEMBL133661",
         "CC1=CC(C)(C)Nc2ccc(-c3ccc(Cl)s3)cc21",
         "43.0",
         "active",
         "289.831",
         "5.675900000000003",
         "1.0",
         "2.0"
        ],
        [
         "19",
         "CHEMBL133661",
         "CC1=CC(C)(C)Nc2ccc(-c3ccc(Cl)s3)cc21",
         "151.0",
         "active",
         "289.831",
         "5.675900000000003",
         "1.0",
         "2.0"
        ],
        [
         "20",
         "CHEMBL417110",
         "CCN1C(=S)OC(C)(C)c2cc(-c3cc(F)cc(C#N)c3)ccc21",
         "100.0",
         "active",
         "340.42300000000006",
         "4.740880000000003",
         "0.0",
         "3.0"
        ],
        [
         "21",
         "CHEMBL132950",
         "CC1=CC(C)(C)Nc2ccc(-c3cc(Br)c(C#N)s3)cc21",
         "242.0",
         "active",
         "359.2920000000001",
         "5.656680000000003",
         "1.0",
         "3.0"
        ],
        [
         "22",
         "CHEMBL132950",
         "CC1=CC(C)(C)Nc2ccc(-c3cc(Br)c(C#N)s3)cc21",
         "250.0",
         "active",
         "359.2920000000001",
         "5.656680000000003",
         "1.0",
         "3.0"
        ],
        [
         "23",
         "CHEMBL282650",
         "CC1(C)OC(S)=Nc2ccc(-c3csc(C#N)c3)cc21",
         "3.0",
         "active",
         "300.4080000000001",
         "4.469380000000003",
         "1.0",
         "4.0"
        ],
        [
         "24",
         "CHEMBL339399",
         "CC1=CC(C)(C)Nc2ccc(-c3ccc(Br)s3)cc21",
         "65.0",
         "active",
         "334.28200000000004",
         "5.785000000000003",
         "1.0",
         "2.0"
        ],
        [
         "25",
         "CHEMBL339399",
         "CC1=CC(C)(C)Nc2ccc(-c3ccc(Br)s3)cc21",
         "71.0",
         "active",
         "334.28200000000004",
         "5.785000000000003",
         "1.0",
         "2.0"
        ],
        [
         "26",
         "CHEMBL162569",
         "C[C@@H]1c2cc3c(C(F)(F)F)cc(O)nc3cc2N[C@@H]1C",
         "1900.0",
         "intermediate",
         "282.26500000000004",
         "3.8767000000000014",
         "2.0",
         "3.0"
        ],
        [
         "27",
         "CHEMBL133656",
         "CC1=CC(C)(C)Nc2ccc(-c3ccc([N+](=O)[O-])s3)cc21",
         "31.0",
         "active",
         "300.38300000000004",
         "4.930700000000003",
         "1.0",
         "4.0"
        ],
        [
         "28",
         "CHEMBL133656",
         "CC1=CC(C)(C)Nc2ccc(-c3ccc([N+](=O)[O-])s3)cc21",
         "70.0",
         "active",
         "300.38300000000004",
         "4.930700000000003",
         "1.0",
         "4.0"
        ],
        [
         "29",
         "CHEMBL134258",
         "CC1=CC(C)(C)Nc2ccc(-c3ccsc3C#N)cc21",
         "318.0",
         "active",
         "280.396",
         "4.894180000000003",
         "1.0",
         "3.0"
        ],
        [
         "30",
         "CHEMBL134258",
         "CC1=CC(C)(C)Nc2ccc(-c3ccsc3C#N)cc21",
         "278.0",
         "active",
         "280.396",
         "4.894180000000003",
         "1.0",
         "3.0"
        ],
        [
         "31",
         "CHEMBL351465",
         "C[C@@H]1Cc2cc3c(C(F)(F)F)cc(O)nc3cc2N1",
         "750.0",
         "active",
         "268.23799999999994",
         "3.3157000000000014",
         "2.0",
         "3.0"
        ],
        [
         "32",
         "CHEMBL25454",
         "CN1C(=S)OC(C)(C)c2cc(-c3cccc(Br)c3)ccc21",
         "114.0",
         "active",
         "362.29200000000003",
         "5.102500000000004",
         "0.0",
         "2.0"
        ],
        [
         "33",
         "CHEMBL132193",
         "CC1=CC(C)(C)Nc2ccc(-c3ccc(C#N)s3)cc21",
         "27.0",
         "active",
         "280.396",
         "4.894180000000003",
         "1.0",
         "3.0"
        ],
        [
         "34",
         "CHEMBL132193",
         "CC1=CC(C)(C)Nc2ccc(-c3ccc(C#N)s3)cc21",
         "80.0",
         "active",
         "280.396",
         "4.894180000000003",
         "1.0",
         "3.0"
        ],
        [
         "35",
         "CHEMBL25292",
         "COc1cc(C#N)cc(-c2ccc3c(c2)C(C)(C)OC(S)=N3)c1",
         "100.0",
         "active",
         "324.405",
         "4.4164800000000035",
         "1.0",
         "4.0"
        ],
        [
         "36",
         "CHEMBL28164",
         "CN1C(=S)OC(C)(C)c2cc(-c3cc(F)cc(Br)c3)ccc21",
         "100.0",
         "active",
         "380.282",
         "5.241600000000004",
         "0.0",
         "2.0"
        ],
        [
         "37",
         "CHEMBL24689",
         "CC1(C)OC(S)=Nc2ccc(-c3cc(C#N)cc(OC(F)(F)F)c3)cc21",
         "100.0",
         "active",
         "378.37500000000006",
         "5.306480000000003",
         "1.0",
         "4.0"
        ],
        [
         "38",
         "CHEMBL134786",
         "CC1=CC(C)(C)Nc2ccc(-c3ccc(C=O)s3)cc21",
         "729.0",
         "active",
         "283.396",
         "4.8350000000000035",
         "1.0",
         "3.0"
        ],
        [
         "39",
         "CHEMBL134786",
         "CC1=CC(C)(C)Nc2ccc(-c3ccc(C=O)s3)cc21",
         "78.0",
         "active",
         "283.396",
         "4.8350000000000035",
         "1.0",
         "3.0"
        ],
        [
         "40",
         "CHEMBL133794",
         "CC1=CC(C)(C)Nc2ccc(-c3sccc3C)cc21",
         "232.0",
         "active",
         "269.413",
         "5.330920000000004",
         "1.0",
         "2.0"
        ],
        [
         "41",
         "CHEMBL133794",
         "CC1=CC(C)(C)Nc2ccc(-c3sccc3C)cc21",
         "105.0",
         "active",
         "269.413",
         "5.330920000000004",
         "1.0",
         "2.0"
        ],
        [
         "42",
         "CHEMBL131681",
         "CC1(C)Nc2ccc(-c3csc(C#N)c3)cc2C(C)(C)C1=O",
         "14.0",
         "active",
         "310.4220000000001",
         "4.3375800000000035",
         "1.0",
         "4.0"
        ],
        [
         "43",
         "CHEMBL350932",
         "Oc1cc(C(F)(F)F)c2cc3c(cc2n1)N[C@@H]1CCCC[C@H]31",
         "170.0",
         "active",
         "308.30300000000017",
         "4.4109000000000025",
         "2.0",
         "3.0"
        ],
        [
         "44",
         "CHEMBL132889",
         "Cc1cc(C#N)sc1-c1ccc2c(c1)C(C)(C)C(=O)C(C)(C)N2",
         "10.0",
         "active",
         "324.44900000000007",
         "4.646000000000004",
         "1.0",
         "4.0"
        ],
        [
         "45",
         "CHEMBL161892",
         "CN1c2cc3c(cc2[C@H]2CCCC[C@H]21)c(C(F)(F)F)cc(=O)n3C",
         "1000.0",
         "active",
         "336.35699999999997",
         "4.033300000000003",
         "0.0",
         "3.0"
        ],
        [
         "46",
         "CHEMBL423620",
         "CC1(C)CCC[C@]2(C)c3cc4c(C(F)(F)F)cc(O)nc4cc3N[C@H]12",
         "430.0",
         "active",
         "350.384",
         "5.221100000000004",
         "2.0",
         "3.0"
        ],
        [
         "47",
         "CHEMBL337885",
         "CC1=CC(C)(C)Nc2ccc(-c3csc(C=O)c3)cc21",
         "245.0",
         "active",
         "283.396",
         "4.8350000000000035",
         "1.0",
         "3.0"
        ],
        [
         "48",
         "CHEMBL337885",
         "CC1=CC(C)(C)Nc2ccc(-c3csc(C=O)c3)cc21",
         "102.0",
         "active",
         "283.396",
         "4.8350000000000035",
         "1.0",
         "3.0"
        ],
        [
         "49",
         "CHEMBL26764",
         "Cc1cc(Br)cc(-c2ccc3c(c2)C(C)(C)OC(S)=N3)c1",
         "100.0",
         "active",
         "362.2920000000001",
         "5.6071200000000045",
         "1.0",
         "2.0"
        ]
       ],
       "shape": {
        "columns": 8,
        "rows": 2156
       }
      },
      "text/html": [
       "<div>\n",
       "<style scoped>\n",
       "    .dataframe tbody tr th:only-of-type {\n",
       "        vertical-align: middle;\n",
       "    }\n",
       "\n",
       "    .dataframe tbody tr th {\n",
       "        vertical-align: top;\n",
       "    }\n",
       "\n",
       "    .dataframe thead th {\n",
       "        text-align: right;\n",
       "    }\n",
       "</style>\n",
       "<table border=\"1\" class=\"dataframe\">\n",
       "  <thead>\n",
       "    <tr style=\"text-align: right;\">\n",
       "      <th></th>\n",
       "      <th>molecule_chembl_id</th>\n",
       "      <th>canonical_smiles</th>\n",
       "      <th>standard_value</th>\n",
       "      <th>bioactivity_class</th>\n",
       "      <th>MW</th>\n",
       "      <th>LogP</th>\n",
       "      <th>NumHDonors</th>\n",
       "      <th>NumHAcceptors</th>\n",
       "    </tr>\n",
       "  </thead>\n",
       "  <tbody>\n",
       "    <tr>\n",
       "      <th>0</th>\n",
       "      <td>CHEMBL1276308</td>\n",
       "      <td>CC#C[C@]1(O)CC[C@H]2[C@@H]3CCC4=CC(=O)CCC4=C3[...</td>\n",
       "      <td>0.0280</td>\n",
       "      <td>active</td>\n",
       "      <td>429.604</td>\n",
       "      <td>5.40650</td>\n",
       "      <td>1.0</td>\n",
       "      <td>3.0</td>\n",
       "    </tr>\n",
       "    <tr>\n",
       "      <th>1</th>\n",
       "      <td>CHEMBL1276308</td>\n",
       "      <td>CC#C[C@]1(O)CC[C@H]2[C@@H]3CCC4=CC(=O)CCC4=C3[...</td>\n",
       "      <td>0.0250</td>\n",
       "      <td>active</td>\n",
       "      <td>429.604</td>\n",
       "      <td>5.40650</td>\n",
       "      <td>1.0</td>\n",
       "      <td>3.0</td>\n",
       "    </tr>\n",
       "    <tr>\n",
       "      <th>2</th>\n",
       "      <td>CHEMBL146032</td>\n",
       "      <td>CC(=O)c1ccc([C@H]2C[C@@]3(C)[C@@H](CC[C@@]3(O)...</td>\n",
       "      <td>0.0036</td>\n",
       "      <td>active</td>\n",
       "      <td>508.527</td>\n",
       "      <td>6.71740</td>\n",
       "      <td>1.0</td>\n",
       "      <td>3.0</td>\n",
       "    </tr>\n",
       "    <tr>\n",
       "      <th>3</th>\n",
       "      <td>CHEMBL146032</td>\n",
       "      <td>CC(=O)c1ccc([C@H]2C[C@@]3(C)[C@@H](CC[C@@]3(O)...</td>\n",
       "      <td>0.0025</td>\n",
       "      <td>active</td>\n",
       "      <td>508.527</td>\n",
       "      <td>6.71740</td>\n",
       "      <td>1.0</td>\n",
       "      <td>3.0</td>\n",
       "    </tr>\n",
       "    <tr>\n",
       "      <th>4</th>\n",
       "      <td>CHEMBL286130</td>\n",
       "      <td>C=C1CC(C)(C)Nc2ccc3c(c21)C(c1ccc(Cl)cc1)Oc1ccc...</td>\n",
       "      <td>1755.0000</td>\n",
       "      <td>intermediate</td>\n",
       "      <td>387.910</td>\n",
       "      <td>7.09620</td>\n",
       "      <td>1.0</td>\n",
       "      <td>2.0</td>\n",
       "    </tr>\n",
       "    <tr>\n",
       "      <th>...</th>\n",
       "      <td>...</td>\n",
       "      <td>...</td>\n",
       "      <td>...</td>\n",
       "      <td>...</td>\n",
       "      <td>...</td>\n",
       "      <td>...</td>\n",
       "      <td>...</td>\n",
       "      <td>...</td>\n",
       "    </tr>\n",
       "    <tr>\n",
       "      <th>1525</th>\n",
       "      <td>NaN</td>\n",
       "      <td>NaN</td>\n",
       "      <td>NaN</td>\n",
       "      <td>NaN</td>\n",
       "      <td>357.312</td>\n",
       "      <td>3.30990</td>\n",
       "      <td>1.0</td>\n",
       "      <td>4.0</td>\n",
       "    </tr>\n",
       "    <tr>\n",
       "      <th>1527</th>\n",
       "      <td>NaN</td>\n",
       "      <td>NaN</td>\n",
       "      <td>NaN</td>\n",
       "      <td>NaN</td>\n",
       "      <td>353.349</td>\n",
       "      <td>3.40280</td>\n",
       "      <td>1.0</td>\n",
       "      <td>4.0</td>\n",
       "    </tr>\n",
       "    <tr>\n",
       "      <th>1533</th>\n",
       "      <td>NaN</td>\n",
       "      <td>NaN</td>\n",
       "      <td>NaN</td>\n",
       "      <td>NaN</td>\n",
       "      <td>424.488</td>\n",
       "      <td>4.85348</td>\n",
       "      <td>2.0</td>\n",
       "      <td>2.0</td>\n",
       "    </tr>\n",
       "    <tr>\n",
       "      <th>1534</th>\n",
       "      <td>NaN</td>\n",
       "      <td>NaN</td>\n",
       "      <td>NaN</td>\n",
       "      <td>NaN</td>\n",
       "      <td>452.285</td>\n",
       "      <td>4.50880</td>\n",
       "      <td>3.0</td>\n",
       "      <td>3.0</td>\n",
       "    </tr>\n",
       "    <tr>\n",
       "      <th>1698</th>\n",
       "      <td>NaN</td>\n",
       "      <td>NaN</td>\n",
       "      <td>NaN</td>\n",
       "      <td>NaN</td>\n",
       "      <td>379.435</td>\n",
       "      <td>4.65152</td>\n",
       "      <td>1.0</td>\n",
       "      <td>4.0</td>\n",
       "    </tr>\n",
       "  </tbody>\n",
       "</table>\n",
       "<p>2156 rows × 8 columns</p>\n",
       "</div>"
      ],
      "text/plain": [
       "     molecule_chembl_id                                   canonical_smiles  \\\n",
       "0         CHEMBL1276308  CC#C[C@]1(O)CC[C@H]2[C@@H]3CCC4=CC(=O)CCC4=C3[...   \n",
       "1         CHEMBL1276308  CC#C[C@]1(O)CC[C@H]2[C@@H]3CCC4=CC(=O)CCC4=C3[...   \n",
       "2          CHEMBL146032  CC(=O)c1ccc([C@H]2C[C@@]3(C)[C@@H](CC[C@@]3(O)...   \n",
       "3          CHEMBL146032  CC(=O)c1ccc([C@H]2C[C@@]3(C)[C@@H](CC[C@@]3(O)...   \n",
       "4          CHEMBL286130  C=C1CC(C)(C)Nc2ccc3c(c21)C(c1ccc(Cl)cc1)Oc1ccc...   \n",
       "...                 ...                                                ...   \n",
       "1525                NaN                                                NaN   \n",
       "1527                NaN                                                NaN   \n",
       "1533                NaN                                                NaN   \n",
       "1534                NaN                                                NaN   \n",
       "1698                NaN                                                NaN   \n",
       "\n",
       "      standard_value bioactivity_class       MW     LogP  NumHDonors  \\\n",
       "0             0.0280            active  429.604  5.40650         1.0   \n",
       "1             0.0250            active  429.604  5.40650         1.0   \n",
       "2             0.0036            active  508.527  6.71740         1.0   \n",
       "3             0.0025            active  508.527  6.71740         1.0   \n",
       "4          1755.0000      intermediate  387.910  7.09620         1.0   \n",
       "...              ...               ...      ...      ...         ...   \n",
       "1525             NaN               NaN  357.312  3.30990         1.0   \n",
       "1527             NaN               NaN  353.349  3.40280         1.0   \n",
       "1533             NaN               NaN  424.488  4.85348         2.0   \n",
       "1534             NaN               NaN  452.285  4.50880         3.0   \n",
       "1698             NaN               NaN  379.435  4.65152         1.0   \n",
       "\n",
       "      NumHAcceptors  \n",
       "0               3.0  \n",
       "1               3.0  \n",
       "2               3.0  \n",
       "3               3.0  \n",
       "4               2.0  \n",
       "...             ...  \n",
       "1525            4.0  \n",
       "1527            4.0  \n",
       "1533            2.0  \n",
       "1534            3.0  \n",
       "1698            4.0  \n",
       "\n",
       "[2156 rows x 8 columns]"
      ]
     },
     "execution_count": 99,
     "metadata": {},
     "output_type": "execute_result"
    }
   ],
   "source": [
    "finaldf= finaldf.dropna(subset = ['canonical_smiles'])\n",
    "lip_df = lipinski(finaldf.canonical_smiles)\n",
    "df_combine = pd.concat([finaldf, lip_df], axis = 1)\n",
    "df_combine['standard_value'] = pd.to_numeric(df_combine['standard_value'])\n",
    "df_combine"
   ]
  },
  {
   "cell_type": "code",
   "execution_count": 100,
   "id": "bda12f7a",
   "metadata": {},
   "outputs": [],
   "source": [
    "def norm_value(input):\n",
    "    norm = []\n",
    "\n",
    "    for i in input['standard_value']:\n",
    "        if i > 100000000:\n",
    "          i = 100000000\n",
    "        norm.append(i)\n",
    "\n",
    "    input['standard_value_norm'] = norm\n",
    "    x = input.drop('standard_value', axis =1)\n",
    "        \n",
    "    return x\n",
    "\n",
    "df_norm = norm_value(df_combine)\n"
   ]
  },
  {
   "cell_type": "code",
   "execution_count": 101,
   "id": "32385b0b",
   "metadata": {},
   "outputs": [
    {
     "data": {
      "application/vnd.microsoft.datawrangler.viewer.v0+json": {
       "columns": [
        {
         "name": "index",
         "rawType": "int64",
         "type": "integer"
        },
        {
         "name": "molecule_chembl_id",
         "rawType": "object",
         "type": "unknown"
        },
        {
         "name": "canonical_smiles",
         "rawType": "object",
         "type": "unknown"
        },
        {
         "name": "bioactivity_class",
         "rawType": "object",
         "type": "unknown"
        },
        {
         "name": "MW",
         "rawType": "float64",
         "type": "float"
        },
        {
         "name": "LogP",
         "rawType": "float64",
         "type": "float"
        },
        {
         "name": "NumHDonors",
         "rawType": "float64",
         "type": "float"
        },
        {
         "name": "NumHAcceptors",
         "rawType": "float64",
         "type": "float"
        },
        {
         "name": "pIC50",
         "rawType": "float64",
         "type": "float"
        }
       ],
       "ref": "2974fddd-9123-4b21-8e79-e381a51dbc49",
       "rows": [
        [
         "0",
         "CHEMBL1276308",
         "CC#C[C@]1(O)CC[C@H]2[C@@H]3CCC4=CC(=O)CCC4=C3[C@@H](c3ccc(N(C)C)cc3)C[C@@]21C",
         "active",
         "429.6040000000001",
         "5.406500000000006",
         "1.0",
         "3.0",
         "10.55284196865778"
        ],
        [
         "1",
         "CHEMBL1276308",
         "CC#C[C@]1(O)CC[C@H]2[C@@H]3CCC4=CC(=O)CCC4=C3[C@@H](c3ccc(N(C)C)cc3)C[C@@]21C",
         "active",
         "429.6040000000001",
         "5.406500000000006",
         "1.0",
         "3.0",
         "10.602059991327963"
        ],
        [
         "2",
         "CHEMBL146032",
         "CC(=O)c1ccc([C@H]2C[C@@]3(C)[C@@H](CC[C@@]3(O)C(F)(F)C(F)(F)F)[C@@H]3CCC4=CC(=O)CCC4=C32)cc1",
         "active",
         "508.52700000000027",
         "6.717400000000006",
         "1.0",
         "3.0",
         "11.443697499232712"
        ],
        [
         "3",
         "CHEMBL146032",
         "CC(=O)c1ccc([C@H]2C[C@@]3(C)[C@@H](CC[C@@]3(O)C(F)(F)C(F)(F)F)[C@@H]3CCC4=CC(=O)CCC4=C32)cc1",
         "active",
         "508.52700000000027",
         "6.717400000000006",
         "1.0",
         "3.0",
         "11.602059991327963"
        ],
        [
         "4",
         "CHEMBL286130",
         "C=C1CC(C)(C)Nc2ccc3c(c21)C(c1ccc(Cl)cc1)Oc1ccccc1-3",
         "intermediate",
         "387.9100000000001",
         "7.096200000000005",
         "1.0",
         "2.0",
         "5.755722879198157"
        ],
        [
         "5",
         "CHEMBL286595",
         "CC1=CC(C)(C)Nc2ccc3c(c21)C(c1ccc(Cl)cc1)Oc1ccccc1-3",
         "active",
         "387.9100000000001",
         "7.096200000000005",
         "1.0",
         "2.0",
         "6.221848749616356"
        ],
        [
         "6",
         "CHEMBL36076",
         "C[C@@H]1CC(C)(C)Nc2ccc3c(c21)[C@H](c1ccc(Cl)cc1)Oc1ccccc1-3",
         "intermediate",
         "389.9260000000001",
         "7.186500000000005",
         "1.0",
         "2.0",
         "5.508638306165727"
        ],
        [
         "7",
         "CHEMBL35431",
         "C[C@@H]1c2c(ccc3c2[C@H](c2ccc(Cl)cc2)Oc2ccccc2-3)NC(C)(C)[C@H]1O",
         "intermediate",
         "405.92500000000007",
         "6.157300000000005",
         "2.0",
         "3.0",
         "5.494850021680094"
        ],
        [
         "8",
         "CHEMBL33909",
         "CC1(C)C=Cc2c(ccc3c2C(c2ccc(Cl)cc2)Oc2ccccc2-3)N1",
         "active",
         "373.88300000000004",
         "6.706100000000005",
         "1.0",
         "2.0",
         "6.853871964321762"
        ],
        [
         "9",
         "CHEMBL34035",
         "C[C@H]1c2c(ccc3c2[C@H](c2ccc(Cl)cc2)Oc2ccccc2-3)NC(C)(C)[C@@H]1O",
         "active",
         "405.92500000000007",
         "6.157300000000005",
         "2.0",
         "3.0",
         "6.337242168318426"
        ],
        [
         "10",
         "CHEMBL286662",
         "CC1(C)CC(=O)c2c(ccc3c2C(c2ccc(Cl)cc2)Oc2ccccc2-3)N1",
         "active",
         "389.88200000000006",
         "6.265700000000003",
         "1.0",
         "3.0",
         "6.424812155072339"
        ],
        [
         "11",
         "CHEMBL117465",
         "CC1=CC(C)(C)Nc2ccc(-c3cc(F)cc(C#N)c3)cc21",
         "active",
         "292.357",
         "4.971780000000004",
         "1.0",
         "2.0",
         "7.522878745280337"
        ],
        [
         "12",
         "CHEMBL117465",
         "CC1=CC(C)(C)Nc2ccc(-c3cc(F)cc(C#N)c3)cc21",
         "active",
         "292.357",
         "4.971780000000004",
         "1.0",
         "2.0",
         "7.431798275933005"
        ],
        [
         "13",
         "CHEMBL335992",
         "CC1=CC(C)(C)Nc2ccc(-c3csc(C#N)c3)cc21",
         "active",
         "280.396",
         "4.894180000000004",
         "1.0",
         "3.0",
         "7.619788758288394"
        ],
        [
         "14",
         "CHEMBL335992",
         "CC1=CC(C)(C)Nc2ccc(-c3csc(C#N)c3)cc21",
         "active",
         "280.396",
         "4.894180000000004",
         "1.0",
         "3.0",
         "6.97469413473523"
        ],
        [
         "15",
         "CHEMBL26763",
         "CC1(C)OC(S)=Nc2ccc(-c3cc(Br)cc(OC(F)(F)F)c3)cc21",
         "active",
         "432.2610000000001",
         "6.197300000000004",
         "1.0",
         "3.0",
         "7.0"
        ],
        [
         "16",
         "CHEMBL1908373",
         "CN(C)c1ccc([C@H]2C[C@]3(C)[C@@H](CC[C@]3(O)CCCO)[C@@H]3CCC4=CC(=O)CCC4=C32)cc1",
         "active",
         "449.6350000000003",
         "5.155700000000006",
         "2.0",
         "4.0",
         "8.657577319177793"
        ],
        [
         "17",
         "CHEMBL1908373",
         "CN(C)c1ccc([C@H]2C[C@]3(C)[C@@H](CC[C@]3(O)CCCO)[C@@H]3CCC4=CC(=O)CCC4=C32)cc1",
         "active",
         "449.6350000000003",
         "5.155700000000006",
         "2.0",
         "4.0",
         "8.481486060122112"
        ],
        [
         "18",
         "CHEMBL133661",
         "CC1=CC(C)(C)Nc2ccc(-c3ccc(Cl)s3)cc21",
         "active",
         "289.831",
         "5.675900000000003",
         "1.0",
         "2.0",
         "7.366531544420414"
        ],
        [
         "19",
         "CHEMBL133661",
         "CC1=CC(C)(C)Nc2ccc(-c3ccc(Cl)s3)cc21",
         "active",
         "289.831",
         "5.675900000000003",
         "1.0",
         "2.0",
         "6.82102305270683"
        ],
        [
         "20",
         "CHEMBL417110",
         "CCN1C(=S)OC(C)(C)c2cc(-c3cc(F)cc(C#N)c3)ccc21",
         "active",
         "340.42300000000006",
         "4.740880000000003",
         "0.0",
         "3.0",
         "7.0"
        ],
        [
         "21",
         "CHEMBL132950",
         "CC1=CC(C)(C)Nc2ccc(-c3cc(Br)c(C#N)s3)cc21",
         "active",
         "359.2920000000001",
         "5.656680000000003",
         "1.0",
         "3.0",
         "6.616184634019569"
        ],
        [
         "22",
         "CHEMBL132950",
         "CC1=CC(C)(C)Nc2ccc(-c3cc(Br)c(C#N)s3)cc21",
         "active",
         "359.2920000000001",
         "5.656680000000003",
         "1.0",
         "3.0",
         "6.6020599913279625"
        ],
        [
         "23",
         "CHEMBL282650",
         "CC1(C)OC(S)=Nc2ccc(-c3csc(C#N)c3)cc21",
         "active",
         "300.4080000000001",
         "4.469380000000003",
         "1.0",
         "4.0",
         "8.522878745280337"
        ],
        [
         "24",
         "CHEMBL339399",
         "CC1=CC(C)(C)Nc2ccc(-c3ccc(Br)s3)cc21",
         "active",
         "334.28200000000004",
         "5.785000000000003",
         "1.0",
         "2.0",
         "7.187086643357144"
        ],
        [
         "25",
         "CHEMBL339399",
         "CC1=CC(C)(C)Nc2ccc(-c3ccc(Br)s3)cc21",
         "active",
         "334.28200000000004",
         "5.785000000000003",
         "1.0",
         "2.0",
         "7.1487416512809245"
        ],
        [
         "26",
         "CHEMBL162569",
         "C[C@@H]1c2cc3c(C(F)(F)F)cc(O)nc3cc2N[C@@H]1C",
         "intermediate",
         "282.26500000000004",
         "3.8767000000000014",
         "2.0",
         "3.0",
         "5.721246399047171"
        ],
        [
         "27",
         "CHEMBL133656",
         "CC1=CC(C)(C)Nc2ccc(-c3ccc([N+](=O)[O-])s3)cc21",
         "active",
         "300.38300000000004",
         "4.930700000000003",
         "1.0",
         "4.0",
         "7.508638306165727"
        ],
        [
         "28",
         "CHEMBL133656",
         "CC1=CC(C)(C)Nc2ccc(-c3ccc([N+](=O)[O-])s3)cc21",
         "active",
         "300.38300000000004",
         "4.930700000000003",
         "1.0",
         "4.0",
         "7.154901959985743"
        ],
        [
         "29",
         "CHEMBL134258",
         "CC1=CC(C)(C)Nc2ccc(-c3ccsc3C#N)cc21",
         "active",
         "280.396",
         "4.894180000000003",
         "1.0",
         "3.0",
         "6.497572880015567"
        ],
        [
         "30",
         "CHEMBL134258",
         "CC1=CC(C)(C)Nc2ccc(-c3ccsc3C#N)cc21",
         "active",
         "280.396",
         "4.894180000000003",
         "1.0",
         "3.0",
         "6.555955204081924"
        ],
        [
         "31",
         "CHEMBL351465",
         "C[C@@H]1Cc2cc3c(C(F)(F)F)cc(O)nc3cc2N1",
         "active",
         "268.23799999999994",
         "3.3157000000000014",
         "2.0",
         "3.0",
         "6.1249387366083"
        ],
        [
         "32",
         "CHEMBL25454",
         "CN1C(=S)OC(C)(C)c2cc(-c3cccc(Br)c3)ccc21",
         "active",
         "362.29200000000003",
         "5.102500000000004",
         "0.0",
         "2.0",
         "6.943095148663527"
        ],
        [
         "33",
         "CHEMBL132193",
         "CC1=CC(C)(C)Nc2ccc(-c3ccc(C#N)s3)cc21",
         "active",
         "280.396",
         "4.894180000000003",
         "1.0",
         "3.0",
         "7.568636235841013"
        ],
        [
         "34",
         "CHEMBL132193",
         "CC1=CC(C)(C)Nc2ccc(-c3ccc(C#N)s3)cc21",
         "active",
         "280.396",
         "4.894180000000003",
         "1.0",
         "3.0",
         "7.096910013008056"
        ],
        [
         "35",
         "CHEMBL25292",
         "COc1cc(C#N)cc(-c2ccc3c(c2)C(C)(C)OC(S)=N3)c1",
         "active",
         "324.405",
         "4.4164800000000035",
         "1.0",
         "4.0",
         "7.0"
        ],
        [
         "36",
         "CHEMBL28164",
         "CN1C(=S)OC(C)(C)c2cc(-c3cc(F)cc(Br)c3)ccc21",
         "active",
         "380.282",
         "5.241600000000004",
         "0.0",
         "2.0",
         "7.0"
        ],
        [
         "37",
         "CHEMBL24689",
         "CC1(C)OC(S)=Nc2ccc(-c3cc(C#N)cc(OC(F)(F)F)c3)cc21",
         "active",
         "378.37500000000006",
         "5.306480000000003",
         "1.0",
         "4.0",
         "7.0"
        ],
        [
         "38",
         "CHEMBL134786",
         "CC1=CC(C)(C)Nc2ccc(-c3ccc(C=O)s3)cc21",
         "active",
         "283.396",
         "4.8350000000000035",
         "1.0",
         "3.0",
         "6.137272471682025"
        ],
        [
         "39",
         "CHEMBL134786",
         "CC1=CC(C)(C)Nc2ccc(-c3ccc(C=O)s3)cc21",
         "active",
         "283.396",
         "4.8350000000000035",
         "1.0",
         "3.0",
         "7.107905397309519"
        ],
        [
         "40",
         "CHEMBL133794",
         "CC1=CC(C)(C)Nc2ccc(-c3sccc3C)cc21",
         "active",
         "269.413",
         "5.330920000000004",
         "1.0",
         "2.0",
         "6.634512015109101"
        ],
        [
         "41",
         "CHEMBL133794",
         "CC1=CC(C)(C)Nc2ccc(-c3sccc3C)cc21",
         "active",
         "269.413",
         "5.330920000000004",
         "1.0",
         "2.0",
         "6.978810700930062"
        ],
        [
         "42",
         "CHEMBL131681",
         "CC1(C)Nc2ccc(-c3csc(C#N)c3)cc2C(C)(C)C1=O",
         "active",
         "310.4220000000001",
         "4.3375800000000035",
         "1.0",
         "4.0",
         "7.853871964321762"
        ],
        [
         "43",
         "CHEMBL350932",
         "Oc1cc(C(F)(F)F)c2cc3c(cc2n1)N[C@@H]1CCCC[C@H]31",
         "active",
         "308.30300000000017",
         "4.4109000000000025",
         "2.0",
         "3.0",
         "6.769551078621726"
        ],
        [
         "44",
         "CHEMBL132889",
         "Cc1cc(C#N)sc1-c1ccc2c(c1)C(C)(C)C(=O)C(C)(C)N2",
         "active",
         "324.44900000000007",
         "4.646000000000004",
         "1.0",
         "4.0",
         "8.0"
        ],
        [
         "45",
         "CHEMBL161892",
         "CN1c2cc3c(cc2[C@H]2CCCC[C@H]21)c(C(F)(F)F)cc(=O)n3C",
         "active",
         "336.35699999999997",
         "4.033300000000003",
         "0.0",
         "3.0",
         "6.0"
        ],
        [
         "46",
         "CHEMBL423620",
         "CC1(C)CCC[C@]2(C)c3cc4c(C(F)(F)F)cc(O)nc4cc3N[C@H]12",
         "active",
         "350.384",
         "5.221100000000004",
         "2.0",
         "3.0",
         "6.366531544420414"
        ],
        [
         "47",
         "CHEMBL337885",
         "CC1=CC(C)(C)Nc2ccc(-c3csc(C=O)c3)cc21",
         "active",
         "283.396",
         "4.8350000000000035",
         "1.0",
         "3.0",
         "6.610833915635467"
        ],
        [
         "48",
         "CHEMBL337885",
         "CC1=CC(C)(C)Nc2ccc(-c3csc(C=O)c3)cc21",
         "active",
         "283.396",
         "4.8350000000000035",
         "1.0",
         "3.0",
         "6.991399828238082"
        ],
        [
         "49",
         "CHEMBL26764",
         "Cc1cc(Br)cc(-c2ccc3c(c2)C(C)(C)OC(S)=N3)c1",
         "active",
         "362.2920000000001",
         "5.6071200000000045",
         "1.0",
         "2.0",
         "7.0"
        ]
       ],
       "shape": {
        "columns": 8,
        "rows": 2156
       }
      },
      "text/html": [
       "<div>\n",
       "<style scoped>\n",
       "    .dataframe tbody tr th:only-of-type {\n",
       "        vertical-align: middle;\n",
       "    }\n",
       "\n",
       "    .dataframe tbody tr th {\n",
       "        vertical-align: top;\n",
       "    }\n",
       "\n",
       "    .dataframe thead th {\n",
       "        text-align: right;\n",
       "    }\n",
       "</style>\n",
       "<table border=\"1\" class=\"dataframe\">\n",
       "  <thead>\n",
       "    <tr style=\"text-align: right;\">\n",
       "      <th></th>\n",
       "      <th>molecule_chembl_id</th>\n",
       "      <th>canonical_smiles</th>\n",
       "      <th>bioactivity_class</th>\n",
       "      <th>MW</th>\n",
       "      <th>LogP</th>\n",
       "      <th>NumHDonors</th>\n",
       "      <th>NumHAcceptors</th>\n",
       "      <th>pIC50</th>\n",
       "    </tr>\n",
       "  </thead>\n",
       "  <tbody>\n",
       "    <tr>\n",
       "      <th>0</th>\n",
       "      <td>CHEMBL1276308</td>\n",
       "      <td>CC#C[C@]1(O)CC[C@H]2[C@@H]3CCC4=CC(=O)CCC4=C3[...</td>\n",
       "      <td>active</td>\n",
       "      <td>429.604</td>\n",
       "      <td>5.40650</td>\n",
       "      <td>1.0</td>\n",
       "      <td>3.0</td>\n",
       "      <td>10.552842</td>\n",
       "    </tr>\n",
       "    <tr>\n",
       "      <th>1</th>\n",
       "      <td>CHEMBL1276308</td>\n",
       "      <td>CC#C[C@]1(O)CC[C@H]2[C@@H]3CCC4=CC(=O)CCC4=C3[...</td>\n",
       "      <td>active</td>\n",
       "      <td>429.604</td>\n",
       "      <td>5.40650</td>\n",
       "      <td>1.0</td>\n",
       "      <td>3.0</td>\n",
       "      <td>10.602060</td>\n",
       "    </tr>\n",
       "    <tr>\n",
       "      <th>2</th>\n",
       "      <td>CHEMBL146032</td>\n",
       "      <td>CC(=O)c1ccc([C@H]2C[C@@]3(C)[C@@H](CC[C@@]3(O)...</td>\n",
       "      <td>active</td>\n",
       "      <td>508.527</td>\n",
       "      <td>6.71740</td>\n",
       "      <td>1.0</td>\n",
       "      <td>3.0</td>\n",
       "      <td>11.443697</td>\n",
       "    </tr>\n",
       "    <tr>\n",
       "      <th>3</th>\n",
       "      <td>CHEMBL146032</td>\n",
       "      <td>CC(=O)c1ccc([C@H]2C[C@@]3(C)[C@@H](CC[C@@]3(O)...</td>\n",
       "      <td>active</td>\n",
       "      <td>508.527</td>\n",
       "      <td>6.71740</td>\n",
       "      <td>1.0</td>\n",
       "      <td>3.0</td>\n",
       "      <td>11.602060</td>\n",
       "    </tr>\n",
       "    <tr>\n",
       "      <th>4</th>\n",
       "      <td>CHEMBL286130</td>\n",
       "      <td>C=C1CC(C)(C)Nc2ccc3c(c21)C(c1ccc(Cl)cc1)Oc1ccc...</td>\n",
       "      <td>intermediate</td>\n",
       "      <td>387.910</td>\n",
       "      <td>7.09620</td>\n",
       "      <td>1.0</td>\n",
       "      <td>2.0</td>\n",
       "      <td>5.755723</td>\n",
       "    </tr>\n",
       "    <tr>\n",
       "      <th>...</th>\n",
       "      <td>...</td>\n",
       "      <td>...</td>\n",
       "      <td>...</td>\n",
       "      <td>...</td>\n",
       "      <td>...</td>\n",
       "      <td>...</td>\n",
       "      <td>...</td>\n",
       "      <td>...</td>\n",
       "    </tr>\n",
       "    <tr>\n",
       "      <th>1525</th>\n",
       "      <td>NaN</td>\n",
       "      <td>NaN</td>\n",
       "      <td>NaN</td>\n",
       "      <td>357.312</td>\n",
       "      <td>3.30990</td>\n",
       "      <td>1.0</td>\n",
       "      <td>4.0</td>\n",
       "      <td>NaN</td>\n",
       "    </tr>\n",
       "    <tr>\n",
       "      <th>1527</th>\n",
       "      <td>NaN</td>\n",
       "      <td>NaN</td>\n",
       "      <td>NaN</td>\n",
       "      <td>353.349</td>\n",
       "      <td>3.40280</td>\n",
       "      <td>1.0</td>\n",
       "      <td>4.0</td>\n",
       "      <td>NaN</td>\n",
       "    </tr>\n",
       "    <tr>\n",
       "      <th>1533</th>\n",
       "      <td>NaN</td>\n",
       "      <td>NaN</td>\n",
       "      <td>NaN</td>\n",
       "      <td>424.488</td>\n",
       "      <td>4.85348</td>\n",
       "      <td>2.0</td>\n",
       "      <td>2.0</td>\n",
       "      <td>NaN</td>\n",
       "    </tr>\n",
       "    <tr>\n",
       "      <th>1534</th>\n",
       "      <td>NaN</td>\n",
       "      <td>NaN</td>\n",
       "      <td>NaN</td>\n",
       "      <td>452.285</td>\n",
       "      <td>4.50880</td>\n",
       "      <td>3.0</td>\n",
       "      <td>3.0</td>\n",
       "      <td>NaN</td>\n",
       "    </tr>\n",
       "    <tr>\n",
       "      <th>1698</th>\n",
       "      <td>NaN</td>\n",
       "      <td>NaN</td>\n",
       "      <td>NaN</td>\n",
       "      <td>379.435</td>\n",
       "      <td>4.65152</td>\n",
       "      <td>1.0</td>\n",
       "      <td>4.0</td>\n",
       "      <td>NaN</td>\n",
       "    </tr>\n",
       "  </tbody>\n",
       "</table>\n",
       "<p>2156 rows × 8 columns</p>\n",
       "</div>"
      ],
      "text/plain": [
       "     molecule_chembl_id                                   canonical_smiles  \\\n",
       "0         CHEMBL1276308  CC#C[C@]1(O)CC[C@H]2[C@@H]3CCC4=CC(=O)CCC4=C3[...   \n",
       "1         CHEMBL1276308  CC#C[C@]1(O)CC[C@H]2[C@@H]3CCC4=CC(=O)CCC4=C3[...   \n",
       "2          CHEMBL146032  CC(=O)c1ccc([C@H]2C[C@@]3(C)[C@@H](CC[C@@]3(O)...   \n",
       "3          CHEMBL146032  CC(=O)c1ccc([C@H]2C[C@@]3(C)[C@@H](CC[C@@]3(O)...   \n",
       "4          CHEMBL286130  C=C1CC(C)(C)Nc2ccc3c(c21)C(c1ccc(Cl)cc1)Oc1ccc...   \n",
       "...                 ...                                                ...   \n",
       "1525                NaN                                                NaN   \n",
       "1527                NaN                                                NaN   \n",
       "1533                NaN                                                NaN   \n",
       "1534                NaN                                                NaN   \n",
       "1698                NaN                                                NaN   \n",
       "\n",
       "     bioactivity_class       MW     LogP  NumHDonors  NumHAcceptors      pIC50  \n",
       "0               active  429.604  5.40650         1.0            3.0  10.552842  \n",
       "1               active  429.604  5.40650         1.0            3.0  10.602060  \n",
       "2               active  508.527  6.71740         1.0            3.0  11.443697  \n",
       "3               active  508.527  6.71740         1.0            3.0  11.602060  \n",
       "4         intermediate  387.910  7.09620         1.0            2.0   5.755723  \n",
       "...                ...      ...      ...         ...            ...        ...  \n",
       "1525               NaN  357.312  3.30990         1.0            4.0        NaN  \n",
       "1527               NaN  353.349  3.40280         1.0            4.0        NaN  \n",
       "1533               NaN  424.488  4.85348         2.0            2.0        NaN  \n",
       "1534               NaN  452.285  4.50880         3.0            3.0        NaN  \n",
       "1698               NaN  379.435  4.65152         1.0            4.0        NaN  \n",
       "\n",
       "[2156 rows x 8 columns]"
      ]
     },
     "execution_count": 101,
     "metadata": {},
     "output_type": "execute_result"
    }
   ],
   "source": [
    "def pIC50(input):\n",
    "    pIC50 = []\n",
    "\n",
    "    for i in input['standard_value_norm']:\n",
    "        molar = i*(10**-9) # Converts nM to M\n",
    "        pIC50.append(-np.log10(molar))\n",
    "\n",
    "    input['pIC50'] = pIC50\n",
    "    x = input.drop('standard_value_norm', axis =1)\n",
    "        \n",
    "    return x\n",
    "\n",
    "df_final = pIC50(df_norm)\n",
    "df_final"
   ]
  },
  {
   "cell_type": "markdown",
   "id": "e486cab9",
   "metadata": {},
   "source": [
    "figure 1: bioactivity frequencies"
   ]
  },
  {
   "cell_type": "code",
   "execution_count": 102,
   "id": "16cb71d5",
   "metadata": {},
   "outputs": [
    {
     "data": {
      "text/plain": [
       "Text(0, 0.5, 'Frequency')"
      ]
     },
     "execution_count": 102,
     "metadata": {},
     "output_type": "execute_result"
    },
    {
     "data": {
      "image/png": "[encoded data removed]",
      "text/plain": [
       "<Figure size 550x550 with 1 Axes>"
      ]
     },
     "metadata": {},
     "output_type": "display_data"
    }
   ],
   "source": [
    "import seaborn as sns\n",
    "import matplotlib.pyplot as plt\n",
    "\n",
    "plt.figure(figsize=(5.5, 5.5))\n",
    "\n",
    "sns.countplot(x= 'bioactivity_class', data= df_final, edgecolor='black')\n",
    "\n",
    "plt.xlabel('Bioactivity class', fontsize=14, fontweight='bold')\n",
    "plt.ylabel('Frequency', fontsize=14, fontweight='bold')\n"
   ]
  },
  {
   "cell_type": "markdown",
   "id": "44cb3fb1",
   "metadata": {},
   "source": [
    "Figure 2: molecular weight v octanol-water partition coefficient"
   ]
  },
  {
   "cell_type": "code",
   "execution_count": 103,
   "id": "3cdc4c50",
   "metadata": {},
   "outputs": [
    {
     "data": {
      "text/plain": [
       "<matplotlib.legend.Legend at 0x180aa7e2150>"
      ]
     },
     "execution_count": 103,
     "metadata": {},
     "output_type": "execute_result"
    },
    {
     "data": {
      "image/png": "[encoded data removed]",
      "text/plain": [
       "<Figure size 550x550 with 1 Axes>"
      ]
     },
     "metadata": {},
     "output_type": "display_data"
    }
   ],
   "source": [
    "plt.figure(figsize=(5.5, 5.5))\n",
    "\n",
    "sns.scatterplot(x='MW', y='LogP', data=df_final, hue='bioactivity_class', size='pIC50', edgecolor='black', alpha=0.7)\n",
    "\n",
    "plt.xlabel('MW', fontsize=14, fontweight='bold')\n",
    "plt.ylabel('LogP', fontsize=14, fontweight='bold')\n",
    "plt.legend(bbox_to_anchor=(1.05, 1), loc=2, borderaxespad=0)"
   ]
  },
  {
   "cell_type": "markdown",
   "id": "9222f175",
   "metadata": {},
   "source": [
    "Figure 3: pIC50 values, molecular weight frequencies, octanol-water coefficients, and H donors/acceptors over class types\n"
   ]
  },
  {
   "cell_type": "code",
   "execution_count": 109,
   "id": "8e692506",
   "metadata": {},
   "outputs": [
    {
     "data": {
      "image/png": "[encoded data removed]",
      "text/plain": [
       "<Figure size 1200x1000 with 4 Axes>"
      ]
     },
     "metadata": {},
     "output_type": "display_data"
    }
   ],
   "source": [
    "\n",
    "# Set up a 2x2 subplot grid\n",
    "fig, axes = plt.subplots(2, 2, figsize=(12, 10))\n",
    "fig.tight_layout(pad=4.0)  # Adjust spacing between subplots\n",
    "\n",
    "# First boxplot: pIC50\n",
    "sns.boxplot(ax=axes[0, 0], x='bioactivity_class', y='pIC50', data=df_final)\n",
    "axes[0, 0].set_xlabel('Bioactivity class', fontsize=12, fontweight='bold')\n",
    "axes[0, 0].set_ylabel('pIC50 value', fontsize=12, fontweight='bold')\n",
    "\n",
    "# Second boxplot: MW\n",
    "sns.boxplot(ax=axes[0, 1], x='bioactivity_class', y='MW', data=df_final)\n",
    "axes[0, 1].set_xlabel('Bioactivity class', fontsize=12, fontweight='bold')\n",
    "axes[0, 1].set_ylabel('MW', fontsize=12, fontweight='bold')\n",
    "\n",
    "# Third boxplot: LogP\n",
    "sns.boxplot(ax=axes[1, 0], x='bioactivity_class', y='LogP', data=df_final)\n",
    "axes[1, 0].set_xlabel('Bioactivity class', fontsize=12, fontweight='bold')\n",
    "axes[1, 0].set_ylabel('LogP', fontsize=12, fontweight='bold')\n",
    "\n",
    "# Fourth boxplot: NumHDonors\n",
    "sns.boxplot(ax=axes[1, 1], x='bioactivity_class', y='NumHDonors', data=df_final)\n",
    "axes[1, 1].set_xlabel('Bioactivity class', fontsize=12, fontweight='bold')\n",
    "axes[1, 1].set_ylabel('NumHDonors', fontsize=12, fontweight='bold')\n",
    "\n",
    "# Optional: Add a main title\n",
    "fig.suptitle('Bioactivity Class vs Molecular Properties', fontsize=16, fontweight='bold')\n",
    "\n",
    "plt.show()\n"
   ]
  },
  {
   "cell_type": "markdown",
   "id": "6effb1e7",
   "metadata": {},
   "source": [
    "Mann-Whitney U test for statistical significance of two groups (active and inactive)"
   ]
  },
  {
   "cell_type": "code",
   "execution_count": 115,
   "id": "a67c18d3",
   "metadata": {},
   "outputs": [],
   "source": [
    "def mannwhitney(descriptor, verbose=False):\n",
    "  # https://machinelearningmastery.com/nonparametric-statistical-significance-tests-in-python/\n",
    "  from numpy.random import seed\n",
    "  from numpy.random import randn\n",
    "  from scipy.stats import mannwhitneyu\n",
    "\n",
    "# seed the random number generator\n",
    "  seed(1)\n",
    "\n",
    "# actives and inactives\n",
    "  selection = [descriptor, 'bioactivity_class']\n",
    "  df = df_final[selection]\n",
    "  active = df[df.bioactivity_class == 'active']\n",
    "  active = active[descriptor]\n",
    "\n",
    "  selection = [descriptor, 'bioactivity_class']\n",
    "  df = df_final[selection]\n",
    "  inactive = df[df.bioactivity_class == 'inactive']\n",
    "  inactive = inactive[descriptor]\n",
    "\n",
    "# compare samples\n",
    "  stat, p = mannwhitneyu(active, inactive)\n",
    "  #print('Statistics=%.3f, p=%.3f' % (stat, p))\n",
    "\n",
    "# interpret\n",
    "  alpha = 0.05\n",
    "  if p > alpha:\n",
    "    interpretation = 'Same distribution (fail to reject H0)'\n",
    "  else:\n",
    "    interpretation = 'Different distribution (reject H0)'\n",
    "  \n",
    "  results = pd.DataFrame({'Descriptor':descriptor,\n",
    "                          'Statistics':stat,\n",
    "                          'p':p,\n",
    "                          'alpha':alpha,\n",
    "                          'Interpretation':interpretation}, index=[0])\n",
    "  filename = 'mannwhitneyu_' + descriptor + '.csv'\n",
    "\n",
    "  return results"
   ]
  },
  {
   "cell_type": "code",
   "execution_count": 114,
   "id": "1a22b985",
   "metadata": {},
   "outputs": [
    {
     "data": {
      "application/vnd.microsoft.datawrangler.viewer.v0+json": {
       "columns": [
        {
         "name": "index",
         "rawType": "int64",
         "type": "integer"
        },
        {
         "name": "Descriptor",
         "rawType": "object",
         "type": "string"
        },
        {
         "name": "Statistics",
         "rawType": "float64",
         "type": "float"
        },
        {
         "name": "p",
         "rawType": "float64",
         "type": "float"
        },
        {
         "name": "alpha",
         "rawType": "float64",
         "type": "float"
        },
        {
         "name": "Interpretation",
         "rawType": "object",
         "type": "string"
        }
       ],
       "ref": "a32e6caf-0276-4457-b1c7-038707c27f65",
       "rows": [
        [
         "0",
         "pIC50",
         "116455.0",
         "0.1731364767720036",
         "0.05",
         "Same distribution (fail to reject H0)"
        ],
        [
         "0",
         "MW",
         "110936.0",
         "0.7651690123717931",
         "0.05",
         "Same distribution (fail to reject H0)"
        ],
        [
         "0",
         "LogP",
         "140225.0",
         "2.830281704436323e-09",
         "0.05",
         "Different distribution (reject H0)"
        ],
        [
         "0",
         "NumHDonors",
         "106648.0",
         "0.5617597326175019",
         "0.05",
         "Same distribution (fail to reject H0)"
        ],
        [
         "0",
         "NumHAcceptors",
         "92786.5",
         "0.0009225542995778016",
         "0.05",
         "Different distribution (reject H0)"
        ]
       ],
       "shape": {
        "columns": 5,
        "rows": 5
       }
      },
      "text/html": [
       "<div>\n",
       "<style scoped>\n",
       "    .dataframe tbody tr th:only-of-type {\n",
       "        vertical-align: middle;\n",
       "    }\n",
       "\n",
       "    .dataframe tbody tr th {\n",
       "        vertical-align: top;\n",
       "    }\n",
       "\n",
       "    .dataframe thead th {\n",
       "        text-align: right;\n",
       "    }\n",
       "</style>\n",
       "<table border=\"1\" class=\"dataframe\">\n",
       "  <thead>\n",
       "    <tr style=\"text-align: right;\">\n",
       "      <th></th>\n",
       "      <th>Descriptor</th>\n",
       "      <th>Statistics</th>\n",
       "      <th>p</th>\n",
       "      <th>alpha</th>\n",
       "      <th>Interpretation</th>\n",
       "    </tr>\n",
       "  </thead>\n",
       "  <tbody>\n",
       "    <tr>\n",
       "      <th>0</th>\n",
       "      <td>pIC50</td>\n",
       "      <td>116455.0</td>\n",
       "      <td>1.731365e-01</td>\n",
       "      <td>0.05</td>\n",
       "      <td>Same distribution (fail to reject H0)</td>\n",
       "    </tr>\n",
       "    <tr>\n",
       "      <th>0</th>\n",
       "      <td>MW</td>\n",
       "      <td>110936.0</td>\n",
       "      <td>7.651690e-01</td>\n",
       "      <td>0.05</td>\n",
       "      <td>Same distribution (fail to reject H0)</td>\n",
       "    </tr>\n",
       "    <tr>\n",
       "      <th>0</th>\n",
       "      <td>LogP</td>\n",
       "      <td>140225.0</td>\n",
       "      <td>2.830282e-09</td>\n",
       "      <td>0.05</td>\n",
       "      <td>Different distribution (reject H0)</td>\n",
       "    </tr>\n",
       "    <tr>\n",
       "      <th>0</th>\n",
       "      <td>NumHDonors</td>\n",
       "      <td>106648.0</td>\n",
       "      <td>5.617597e-01</td>\n",
       "      <td>0.05</td>\n",
       "      <td>Same distribution (fail to reject H0)</td>\n",
       "    </tr>\n",
       "    <tr>\n",
       "      <th>0</th>\n",
       "      <td>NumHAcceptors</td>\n",
       "      <td>92786.5</td>\n",
       "      <td>9.225543e-04</td>\n",
       "      <td>0.05</td>\n",
       "      <td>Different distribution (reject H0)</td>\n",
       "    </tr>\n",
       "  </tbody>\n",
       "</table>\n",
       "</div>"
      ],
      "text/plain": [
       "      Descriptor  Statistics             p  alpha  \\\n",
       "0          pIC50    116455.0  1.731365e-01   0.05   \n",
       "0             MW    110936.0  7.651690e-01   0.05   \n",
       "0           LogP    140225.0  2.830282e-09   0.05   \n",
       "0     NumHDonors    106648.0  5.617597e-01   0.05   \n",
       "0  NumHAcceptors     92786.5  9.225543e-04   0.05   \n",
       "\n",
       "                          Interpretation  \n",
       "0  Same distribution (fail to reject H0)  \n",
       "0  Same distribution (fail to reject H0)  \n",
       "0     Different distribution (reject H0)  \n",
       "0  Same distribution (fail to reject H0)  \n",
       "0     Different distribution (reject H0)  "
      ]
     },
     "execution_count": 114,
     "metadata": {},
     "output_type": "execute_result"
    }
   ],
   "source": [
    "pd.concat([mannwhitney('pIC50'),mannwhitney('MW'), mannwhitney('LogP'), mannwhitney('NumHDonors'),mannwhitney('NumHAcceptors')  ], axis=0)"
   ]
  },
  {
   "cell_type": "markdown",
   "id": "5c9cee46",
   "metadata": {},
   "source": [
    "Seeing as logP and H-bond acceptors deviated from the null hypothesis, those are some correlations that I will test in bio_ml.ipynb"
   ]
  },
  {
   "cell_type": "code",
   "execution_count": 116,
   "id": "67d64b50",
   "metadata": {},
   "outputs": [],
   "source": [
    "df_final.to_csv('final_export.csv', index = False)"
   ]
  }
 ],
 "metadata": {
  "kernelspec": {
   "display_name": "bioenv",
   "language": "python",
   "name": "python3"
  },
  "language_info": {
   "codemirror_mode": {
    "name": "ipython",
    "version": 3
   },
   "file_extension": ".py",
   "mimetype": "text/x-python",
   "name": "python",
   "nbconvert_exporter": "python",
   "pygments_lexer": "ipython3",
   "version": "3.12.11"
  }
 },
 "nbformat": 4,
 "nbformat_minor": 5
}
